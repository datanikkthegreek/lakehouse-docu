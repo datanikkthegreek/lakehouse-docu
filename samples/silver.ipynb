{
 "cells": [
  {
   "cell_type": "code",
   "execution_count": 1,
   "metadata": {},
   "outputs": [],
   "source": [
    "import requests\n",
    "import math\n",
    "from lakehouse.utils.settings import spark\n",
    "from lakehouse import bronze, silver\n",
    "from pyspark.sql import DataFrame, Row\n",
    "from pyspark.sql.datasource import DataSource, DataSourceReader, InputPartition\n",
    "from delta import DeltaTable\n",
    "from delta.tables import DeltaMergeBuilder\n",
    "from pyspark.sql import functions as F"
   ]
  },
  {
   "cell_type": "markdown",
   "metadata": {},
   "source": [
    "# 1. Set Up"
   ]
  },
  {
   "cell_type": "code",
   "execution_count": 2,
   "metadata": {},
   "outputs": [],
   "source": [
    "class SWAPIDataSource(DataSource):\n",
    "    \"\"\"\n",
    "    Implementing the SWAPI API as to https://swapi.dev/documentation\n",
    "\n",
    "    Name: `SWAPI`\n",
    "\n",
    "    Schema (depends on the called resource): \n",
    "\n",
    "        \"people\": 'birth_year string, created string, edited string, eye_color string, films array<string>, \n",
    "        gender string, hair_color string, height string, homeworld string, mass string, name string, skin_color string, \n",
    "        species array<string>, starships array<string>, url string, vehicles array<string>',\n",
    "\n",
    "        \"films\": 'characters array<string>, created string, director string, edited string, episode_id bigint, \n",
    "        opening_crawl string, planets array<string>, producer string, release_date string, species array<string>, \n",
    "        starships array<string>, title string, url string, vehicles array<string>',\n",
    "\n",
    "        \"starships\": 'MGLT string, cargo_capacity string, consumables string, cost_in_credits string, created string, \n",
    "        crew string, edited string, films array<string>, hyperdrive_rating string, length string, manufacturer string, \n",
    "        max_atmosphering_speed string, model string, name string, passengers string, pilots array<string>, starship_class string, url string',\n",
    "\n",
    "        \"vehicles\": 'cargo_capacity string, consumables string, cost_in_credits string, created string, crew string, \n",
    "        edited string, films array<string>, length string, manufacturer string, max_atmosphering_speed string, model string, \n",
    "        name string, passengers string, pilots array<string>, url string, vehicle_class string',\n",
    "\n",
    "        \"species\": 'average_height string, average_lifespan string, classification string, created string, designation string, \n",
    "        edited string, eye_colors string, films array<string>, hair_colors string, homeworld string, language string, name string, \n",
    "        people array<string>, skin_colors string, url string',\n",
    "\n",
    "        \"planets\": 'climate string, created string, diameter string, edited string, films array<string>, gravity string, name string, \n",
    "        orbital_period string, population string, residents array<string>, rotation_period string, surface_water string, terrain string, url string'\n",
    "\n",
    "    Examples\n",
    "    --------\n",
    "    Register the data source.\n",
    "\n",
    "    >>> from pyspark_datasources import SWAPIDataSource\n",
    "    >>> spark.dataSource.register(SWAPIDataSource)\n",
    "\n",
    "    Load data from the availble resources \"people\", \"films\", \"starships\", \"vehicles\", \"species\", \"planets\"\n",
    "\n",
    "    >>> spark.read.format(\"SWAPI\").load(\"planets\").show()\n",
    " \n",
    "    +---------+--------------------+--------+--------------------+--------------------+----------+--------+---+\n",
    "    |  climate|             created|diameter|              edited|               films|   gravity|    name|...|\n",
    "    +---------+--------------------+--------+--------------------+--------------------+----------+--------+---+\n",
    "    |     arid|2014-12-09T13:50:...|   10465|2014-12-20T20:58:...|[https://swapi.de...|1 standard|Tatooine|...|\n",
    "    |...      |...                 |...     |...                 |                 ...|...       |...     |...|\n",
    "    +---------+--------------------+--------+--------------------+--------------------+----------+--------+---+\n",
    "\n",
    "    \"\"\"\n",
    "\n",
    "    @classmethod\n",
    "    def name(self):\n",
    "        return \"SWAPI\"\n",
    "    \n",
    "    def schema(self):\n",
    "        if self.options[\"path\"] not in [\"people\", \"films\", \"starships\", \"vehicles\", \"species\", \"planets\"]:\n",
    "            raise Exception(f\"Assure that only values in ['people', 'films', 'starships', 'vehicles', 'species', 'planets'] are provided\")\n",
    "        \n",
    "        schemas = {\n",
    "            \"people\": 'birth_year string, created string, edited string, eye_color string, films array<string>, gender string, hair_color string, height string, homeworld string, mass string, name string, skin_color string, species array<string>, starships array<string>, url string, vehicles array<string>',\n",
    "\n",
    "            \"films\": 'characters array<string>, created string, director string, edited string, episode_id bigint, opening_crawl string, planets array<string>, producer string, release_date string, species array<string>, starships array<string>, title string, url string, vehicles array<string>',\n",
    "\n",
    "            \"starships\": 'MGLT string, cargo_capacity string, consumables string, cost_in_credits string, created string, crew string, edited string, films array<string>, hyperdrive_rating string, length string, manufacturer string, max_atmosphering_speed string, model string, name string, passengers string, pilots array<string>, starship_class string, url string',\n",
    "\n",
    "            \"vehicles\": 'cargo_capacity string, consumables string, cost_in_credits string, created string, crew string, edited string, films array<string>, length string, manufacturer string, max_atmosphering_speed string, model string, name string, passengers string, pilots array<string>, url string, vehicle_class string',\n",
    "\n",
    "            \"species\": 'average_height string, average_lifespan string, classification string, created string, designation string, edited string, eye_colors string, films array<string>, hair_colors string, homeworld string, language string, name string, people array<string>, skin_colors string, url string',\n",
    "\n",
    "            \"planets\": 'climate string, created string, diameter string, edited string, films array<string>, gravity string, name string, orbital_period string, population string, residents array<string>, rotation_period string, surface_water string, terrain string, url string'\n",
    "        }\n",
    "\n",
    "        return schemas[self.options[\"path\"]]\n",
    "\n",
    "    def reader(self, schema):\n",
    "        return SWAPIDataSourceReader(self.options)\n",
    "\n",
    "\n",
    "class SWAPIDataSourceReader(DataSourceReader):\n",
    "    def __init__(self, options):\n",
    "        self.resource = options[\"path\"]\n",
    "\n",
    "    def partitions(self):\n",
    "        query = f\"https://swapi.dev/api/{self.resource}/\"\n",
    "        page_size = 10\n",
    "        total_elements = int(requests.get(query).json()[\"count\"])\n",
    "        no_pages = math.ceil(total_elements / page_size)\n",
    "        return [InputPartition(i) for i in range(1, no_pages + 1)]\n",
    "\n",
    "    def read(self, partition):\n",
    "        query = f\"https://swapi.dev/api/{self.resource}/?page={str(partition.value)}\"\n",
    "        req = requests.get(query)\n",
    "        data = req.json()[\"results\"]\n",
    "        for d in data:\n",
    "            yield Row(**d)"
   ]
  },
  {
   "cell_type": "code",
   "execution_count": 3,
   "metadata": {},
   "outputs": [
    {
     "data": {
      "text/plain": [
       "DataFrame[]"
      ]
     },
     "execution_count": 3,
     "metadata": {},
     "output_type": "execute_result"
    }
   ],
   "source": [
    "spark.sql(f\"CREATE SCHEMA IF NOT EXISTS hive_metastore.bronze\")\n",
    "spark.sql(f\"CREATE SCHEMA IF NOT EXISTS hive_metastore.silver\")"
   ]
  },
  {
   "cell_type": "code",
   "execution_count": 4,
   "metadata": {},
   "outputs": [],
   "source": [
    "options = {\n",
    "    \"catalog\": \"hive_metastore\",\n",
    "    \"target_schema\": \"bronze\" \n",
    "}"
   ]
  },
  {
   "cell_type": "code",
   "execution_count": 5,
   "metadata": {},
   "outputs": [],
   "source": [
    "class StarWarsBronze(bronze.BronzeOverwrite):\n",
    "    def load(self, table):\n",
    "        spark.dataSource.register(SWAPIDataSource)\n",
    "        return spark.read.format(\"SWAPI\").load(table)\n",
    "    \n",
    "bronze_instance = StarWarsBronze(spark, **options)\n",
    "bronze_instance.execute_all([\"people\", \"planets\"])"
   ]
  },
  {
   "cell_type": "code",
   "execution_count": 6,
   "metadata": {},
   "outputs": [
    {
     "name": "stdout",
     "output_type": "stream",
     "text": [
      "No. Rows: 82\n",
      "+----------+--------------------+--------------------+---------+--------------------+-------------+-------------+------+--------------------+-------+--------------------+----------------+--------------------+--------------------+--------------------+--------------------+--------------------+\n",
      "|birth_year|             created|              edited|eye_color|               films|       gender|   hair_color|height|           homeworld|   mass|                name|      skin_color|             species|           starships|                 url|            vehicles|         LH_BronzeTS|\n",
      "+----------+--------------------+--------------------+---------+--------------------+-------------+-------------+------+--------------------+-------+--------------------+----------------+--------------------+--------------------+--------------------+--------------------+--------------------+\n",
      "|     19BBY|2014-12-09T13:50:...|2014-12-20T21:17:...|     blue|[https://swapi.de...|         male|        blond|   172|https://swapi.dev...|     77|      Luke Skywalker|            fair|                  []|[https://swapi.de...|https://swapi.dev...|[https://swapi.de...|2024-10-05 18:08:...|\n",
      "|    112BBY|2014-12-10T15:10:...|2014-12-20T21:17:...|   yellow|[https://swapi.de...|          n/a|          n/a|   167|https://swapi.dev...|     75|               C-3PO|            gold|[https://swapi.de...|                  []|https://swapi.dev...|                  []|2024-10-05 18:08:...|\n",
      "|     33BBY|2014-12-10T15:11:...|2014-12-20T21:17:...|      red|[https://swapi.de...|          n/a|          n/a|    96|https://swapi.dev...|     32|               R2-D2|     white, blue|[https://swapi.de...|                  []|https://swapi.dev...|                  []|2024-10-05 18:08:...|\n",
      "|   41.9BBY|2014-12-10T15:18:...|2014-12-20T21:17:...|   yellow|[https://swapi.de...|         male|         none|   202|https://swapi.dev...|    136|         Darth Vader|           white|                  []|[https://swapi.de...|https://swapi.dev...|                  []|2024-10-05 18:08:...|\n",
      "|     19BBY|2014-12-10T15:20:...|2014-12-20T21:17:...|    brown|[https://swapi.de...|       female|        brown|   150|https://swapi.dev...|     49|         Leia Organa|           light|                  []|                  []|https://swapi.dev...|[https://swapi.de...|2024-10-05 18:08:...|\n",
      "|     52BBY|2014-12-10T15:52:...|2014-12-20T21:17:...|     blue|[https://swapi.de...|         male|  brown, grey|   178|https://swapi.dev...|    120|           Owen Lars|           light|                  []|                  []|https://swapi.dev...|                  []|2024-10-05 18:08:...|\n",
      "|     47BBY|2014-12-10T15:53:...|2014-12-20T21:17:...|     blue|[https://swapi.de...|       female|        brown|   165|https://swapi.dev...|     75|  Beru Whitesun lars|           light|                  []|                  []|https://swapi.dev...|                  []|2024-10-05 18:08:...|\n",
      "|   unknown|2014-12-10T15:57:...|2014-12-20T21:17:...|      red|[https://swapi.de...|          n/a|          n/a|    97|https://swapi.dev...|     32|               R5-D4|      white, red|[https://swapi.de...|                  []|https://swapi.dev...|                  []|2024-10-05 18:08:...|\n",
      "|     24BBY|2014-12-10T15:59:...|2014-12-20T21:17:...|    brown|[https://swapi.de...|         male|        black|   183|https://swapi.dev...|     84|   Biggs Darklighter|           light|                  []|[https://swapi.de...|https://swapi.dev...|                  []|2024-10-05 18:08:...|\n",
      "|     57BBY|2014-12-10T16:16:...|2014-12-20T21:17:...|blue-gray|[https://swapi.de...|         male|auburn, white|   182|https://swapi.dev...|     77|      Obi-Wan Kenobi|            fair|                  []|[https://swapi.de...|https://swapi.dev...|[https://swapi.de...|2024-10-05 18:08:...|\n",
      "|   41.9BBY|2014-12-10T16:20:...|2014-12-20T21:17:...|     blue|[https://swapi.de...|         male|        blond|   188|https://swapi.dev...|     84|    Anakin Skywalker|            fair|                  []|[https://swapi.de...|https://swapi.dev...|[https://swapi.de...|2024-10-05 18:08:...|\n",
      "|     64BBY|2014-12-10T16:26:...|2014-12-20T21:17:...|     blue|[https://swapi.de...|         male| auburn, grey|   180|https://swapi.dev...|unknown|      Wilhuff Tarkin|            fair|                  []|                  []|https://swapi.dev...|                  []|2024-10-05 18:08:...|\n",
      "|    200BBY|2014-12-10T16:42:...|2014-12-20T21:17:...|     blue|[https://swapi.de...|         male|        brown|   228|https://swapi.dev...|    112|           Chewbacca|         unknown|[https://swapi.de...|[https://swapi.de...|https://swapi.dev...|[https://swapi.de...|2024-10-05 18:08:...|\n",
      "|     29BBY|2014-12-10T16:49:...|2014-12-20T21:17:...|    brown|[https://swapi.de...|         male|        brown|   180|https://swapi.dev...|     80|            Han Solo|            fair|                  []|[https://swapi.de...|https://swapi.dev...|                  []|2024-10-05 18:08:...|\n",
      "|     44BBY|2014-12-10T17:03:...|2014-12-20T21:17:...|    black|[https://swapi.de...|         male|          n/a|   173|https://swapi.dev...|     74|              Greedo|           green|[https://swapi.de...|                  []|https://swapi.dev...|                  []|2024-10-05 18:08:...|\n",
      "|    600BBY|2014-12-10T17:11:...|2014-12-20T21:17:...|   orange|[https://swapi.de...|hermaphrodite|          n/a|   175|https://swapi.dev...|  1,358|Jabba Desilijic T...|green-tan, brown|[https://swapi.de...|                  []|https://swapi.dev...|                  []|2024-10-05 18:08:...|\n",
      "|     21BBY|2014-12-12T11:08:...|2014-12-20T21:17:...|    hazel|[https://swapi.de...|         male|        brown|   170|https://swapi.dev...|     77|      Wedge Antilles|            fair|                  []|[https://swapi.de...|https://swapi.dev...|[https://swapi.de...|2024-10-05 18:08:...|\n",
      "|   unknown|2014-12-12T11:16:...|2014-12-20T21:17:...|     blue|[https://swapi.de...|         male|        brown|   180|https://swapi.dev...|    110|    Jek Tono Porkins|            fair|                  []|[https://swapi.de...|https://swapi.dev...|                  []|2024-10-05 18:08:...|\n",
      "|    896BBY|2014-12-15T12:26:...|2014-12-20T21:17:...|    brown|[https://swapi.de...|         male|        white|    66|https://swapi.dev...|     17|                Yoda|           green|[https://swapi.de...|                  []|https://swapi.dev...|                  []|2024-10-05 18:08:...|\n",
      "|     82BBY|2014-12-15T12:48:...|2014-12-20T21:17:...|   yellow|[https://swapi.de...|         male|         grey|   170|https://swapi.dev...|     75|           Palpatine|            pale|                  []|                  []|https://swapi.dev...|                  []|2024-10-05 18:08:...|\n",
      "+----------+--------------------+--------------------+---------+--------------------+-------------+-------------+------+--------------------+-------+--------------------+----------------+--------------------+--------------------+--------------------+--------------------+--------------------+\n",
      "only showing top 20 rows\n",
      "\n"
     ]
    }
   ],
   "source": [
    "sdf = spark.sql(\"SELECT * FROM hive_metastore.bronze.people\")\n",
    "print(f\"No. Rows: {sdf.count()}\")\n",
    "sdf.show()"
   ]
  },
  {
   "cell_type": "code",
   "execution_count": 7,
   "metadata": {},
   "outputs": [
    {
     "name": "stdout",
     "output_type": "stream",
     "text": [
      "No. Rows: 60\n",
      "+--------------------+--------------------+--------+--------------------+--------------------+--------------------+--------------+--------------+-------------+--------------------+---------------+-------------+--------------------+--------------------+--------------------+\n",
      "|             climate|             created|diameter|              edited|               films|             gravity|          name|orbital_period|   population|           residents|rotation_period|surface_water|             terrain|                 url|         LH_BronzeTS|\n",
      "+--------------------+--------------------+--------+--------------------+--------------------+--------------------+--------------+--------------+-------------+--------------------+---------------+-------------+--------------------+--------------------+--------------------+\n",
      "|                arid|2014-12-09T13:50:...|   10465|2014-12-20T20:58:...|[https://swapi.de...|          1 standard|      Tatooine|           304|       200000|[https://swapi.de...|             23|            1|              desert|https://swapi.dev...|2024-10-05 18:08:...|\n",
      "|           temperate|2014-12-10T11:35:...|   12500|2014-12-20T20:58:...|[https://swapi.de...|          1 standard|      Alderaan|           364|   2000000000|[https://swapi.de...|             24|           40|grasslands, mount...|https://swapi.dev...|2024-10-05 18:08:...|\n",
      "| temperate, tropical|2014-12-10T11:37:...|   10200|2014-12-20T20:58:...|[https://swapi.de...|          1 standard|      Yavin IV|          4818|         1000|                  []|             24|            8| jungle, rainforests|https://swapi.dev...|2024-10-05 18:08:...|\n",
      "|              frozen|2014-12-10T11:39:...|    7200|2014-12-20T20:58:...|[https://swapi.de...|        1.1 standard|          Hoth|           549|      unknown|                  []|             23|          100|tundra, ice caves...|https://swapi.dev...|2024-10-05 18:08:...|\n",
      "|               murky|2014-12-10T11:42:...|    8900|2014-12-20T20:58:...|[https://swapi.de...|                 N/A|       Dagobah|           341|      unknown|                  []|             23|            8|      swamp, jungles|https://swapi.dev...|2024-10-05 18:08:...|\n",
      "|           temperate|2014-12-10T11:43:...|  118000|2014-12-20T20:58:...|[https://swapi.de...|1.5 (surface), 1 ...|        Bespin|          5110|      6000000|[https://swapi.de...|             12|            0|           gas giant|https://swapi.dev...|2024-10-05 18:08:...|\n",
      "|           temperate|2014-12-10T11:50:...|    4900|2014-12-20T20:58:...|[https://swapi.de...|       0.85 standard|         Endor|           402|     30000000|[https://swapi.de...|             18|            8|forests, mountain...|https://swapi.dev...|2024-10-05 18:08:...|\n",
      "|           temperate|2014-12-10T11:52:...|   12120|2014-12-20T20:58:...|[https://swapi.de...|          1 standard|         Naboo|           312|   4500000000|[https://swapi.de...|             26|           12|grassy hills, swa...|https://swapi.dev...|2024-10-05 18:08:...|\n",
      "|           temperate|2014-12-10T11:54:...|   12240|2014-12-20T20:58:...|[https://swapi.de...|          1 standard|     Coruscant|           368|1000000000000|[https://swapi.de...|             24|      unknown|cityscape, mountains|https://swapi.dev...|2024-10-05 18:08:...|\n",
      "|           temperate|2014-12-10T12:45:...|   19720|2014-12-20T20:58:...|[https://swapi.de...|          1 standard|        Kamino|           463|   1000000000|[https://swapi.de...|             27|          100|               ocean|https://swapi.dev...|2024-10-05 18:08:...|\n",
      "|     temperate, arid|2014-12-10T12:47:...|   11370|2014-12-20T20:58:...|[https://swapi.de...|        0.9 standard|      Geonosis|           256| 100000000000|[https://swapi.de...|             30|            5|rock, desert, mou...|https://swapi.dev...|2024-10-05 18:08:...|\n",
      "|temperate, arid, ...|2014-12-10T12:49:...|   12900|2014-12-20T20:58:...|[https://swapi.de...|          1 standard|        Utapau|           351|     95000000|[https://swapi.de...|             27|          0.9|scrublands, savan...|https://swapi.dev...|2024-10-05 18:08:...|\n",
      "|                 hot|2014-12-10T12:50:...|    4200|2014-12-20T20:58:...|[https://swapi.de...|          1 standard|      Mustafar|           412|        20000|                  []|             36|            0|volcanoes, lava r...|https://swapi.dev...|2024-10-05 18:08:...|\n",
      "|            tropical|2014-12-10T13:32:...|   12765|2014-12-20T20:58:...|[https://swapi.de...|          1 standard|      Kashyyyk|           381|     45000000|[https://swapi.de...|             26|           60|jungle, forests, ...|https://swapi.dev...|2024-10-05 18:08:...|\n",
      "|artificial temper...|2014-12-10T13:33:...|       0|2014-12-20T20:58:...|[https://swapi.de...|       0.56 standard|   Polis Massa|           590|      1000000|                  []|             24|            0|    airless asteroid|https://swapi.dev...|2024-10-05 18:08:...|\n",
      "|              frigid|2014-12-10T13:43:...|   10088|2014-12-20T20:58:...|[https://swapi.de...|          1 standard|       Mygeeto|           167|     19000000|                  []|             12|      unknown|glaciers, mountai...|https://swapi.dev...|2024-10-05 18:08:...|\n",
      "|          hot, humid|2014-12-10T13:44:...|    9100|2014-12-20T20:58:...|[https://swapi.de...|       0.75 standard|       Felucia|           231|      8500000|                  []|             34|      unknown|      fungus forests|https://swapi.dev...|2024-10-05 18:08:...|\n",
      "|    temperate, moist|2014-12-10T13:46:...|       0|2014-12-20T20:58:...|[https://swapi.de...|          1 standard|Cato Neimoidia|           278|     10000000|[https://swapi.de...|             25|      unknown|mountains, fields...|https://swapi.dev...|2024-10-05 18:08:...|\n",
      "|                 hot|2014-12-10T13:47:...|   14920|2014-12-20T20:58:...|[https://swapi.de...|             unknown|     Saleucami|           392|   1400000000|                  []|             26|      unknown|caves, desert, mo...|https://swapi.dev...|2024-10-05 18:08:...|\n",
      "|           temperate|2014-12-10T16:16:...|       0|2014-12-20T20:58:...|                  []|          1 standard|       Stewjon|       unknown|      unknown|[https://swapi.de...|        unknown|      unknown|               grass|https://swapi.dev...|2024-10-05 18:08:...|\n",
      "+--------------------+--------------------+--------+--------------------+--------------------+--------------------+--------------+--------------+-------------+--------------------+---------------+-------------+--------------------+--------------------+--------------------+\n",
      "only showing top 20 rows\n",
      "\n"
     ]
    }
   ],
   "source": [
    "sdf = spark.sql(\"SELECT * FROM hive_metastore.bronze.planets\")\n",
    "print(f\"No. Rows: {sdf.count()}\")\n",
    "sdf.show()"
   ]
  },
  {
   "cell_type": "code",
   "execution_count": 8,
   "metadata": {},
   "outputs": [],
   "source": [
    "options = {\n",
    "    \"catalog\": \"hive_metastore\",\n",
    "    \"source_schema\": \"bronze\",\n",
    "    \"target_schema\": \"silver\"\n",
    "}"
   ]
  },
  {
   "cell_type": "markdown",
   "metadata": {},
   "source": [
    "# 2 Overwrite with execute_one and execute_all"
   ]
  },
  {
   "cell_type": "code",
   "execution_count": 9,
   "metadata": {},
   "outputs": [],
   "source": [
    "#with load filter and transformation\n",
    "class StarWarsSilver(silver.SilverOverwrite):\n",
    "    def filter_load(self, sdf: DataFrame, table: str) -> DataFrame:\n",
    "        return sdf.where(\"eye_color == 'blue'\")\n",
    "    \n",
    "    def transform(self, sdf: DataFrame, table: str) -> DataFrame:\n",
    "        return sdf.withColumn(\"id\", F.split(sdf[\"url\"], \"/\").getItem(5).cast(\"int\"))\n",
    "    \n",
    "silver_instance = StarWarsSilver(spark, **options)\n",
    "silver_instance.execute_one(\"people\")"
   ]
  },
  {
   "cell_type": "code",
   "execution_count": 10,
   "metadata": {},
   "outputs": [
    {
     "name": "stdout",
     "output_type": "stream",
     "text": [
      "No. Rows: 19\n",
      "+----------+--------------------+--------------------+---------+--------------------+------+------------+------+--------------------+-------+------------------+----------+--------------------+--------------------+--------------------+--------------------+--------------------+---+--------------------+\n",
      "|birth_year|             created|              edited|eye_color|               films|gender|  hair_color|height|           homeworld|   mass|              name|skin_color|             species|           starships|                 url|            vehicles|         LH_BronzeTS| id|         LH_SilverTS|\n",
      "+----------+--------------------+--------------------+---------+--------------------+------+------------+------+--------------------+-------+------------------+----------+--------------------+--------------------+--------------------+--------------------+--------------------+---+--------------------+\n",
      "|     19BBY|2014-12-09T13:50:...|2014-12-20T21:17:...|     blue|[https://swapi.de...|  male|       blond|   172|https://swapi.dev...|     77|    Luke Skywalker|      fair|                  []|[https://swapi.de...|https://swapi.dev...|[https://swapi.de...|2024-10-05 18:08:...|  1|2024-10-05 18:08:...|\n",
      "|     52BBY|2014-12-10T15:52:...|2014-12-20T21:17:...|     blue|[https://swapi.de...|  male| brown, grey|   178|https://swapi.dev...|    120|         Owen Lars|     light|                  []|                  []|https://swapi.dev...|                  []|2024-10-05 18:08:...|  6|2024-10-05 18:08:...|\n",
      "|     47BBY|2014-12-10T15:53:...|2014-12-20T21:17:...|     blue|[https://swapi.de...|female|       brown|   165|https://swapi.dev...|     75|Beru Whitesun lars|     light|                  []|                  []|https://swapi.dev...|                  []|2024-10-05 18:08:...|  7|2024-10-05 18:08:...|\n",
      "|   41.9BBY|2014-12-10T16:20:...|2014-12-20T21:17:...|     blue|[https://swapi.de...|  male|       blond|   188|https://swapi.dev...|     84|  Anakin Skywalker|      fair|                  []|[https://swapi.de...|https://swapi.dev...|[https://swapi.de...|2024-10-05 18:08:...| 11|2024-10-05 18:08:...|\n",
      "|     64BBY|2014-12-10T16:26:...|2014-12-20T21:17:...|     blue|[https://swapi.de...|  male|auburn, grey|   180|https://swapi.dev...|unknown|    Wilhuff Tarkin|      fair|                  []|                  []|https://swapi.dev...|                  []|2024-10-05 18:08:...| 12|2024-10-05 18:08:...|\n",
      "|    200BBY|2014-12-10T16:42:...|2014-12-20T21:17:...|     blue|[https://swapi.de...|  male|       brown|   228|https://swapi.dev...|    112|         Chewbacca|   unknown|[https://swapi.de...|[https://swapi.de...|https://swapi.dev...|[https://swapi.de...|2024-10-05 18:08:...| 13|2024-10-05 18:08:...|\n",
      "|   unknown|2014-12-12T11:16:...|2014-12-20T21:17:...|     blue|[https://swapi.de...|  male|       brown|   180|https://swapi.dev...|    110|  Jek Tono Porkins|      fair|                  []|[https://swapi.de...|https://swapi.dev...|                  []|2024-10-05 18:08:...| 19|2024-10-05 18:08:...|\n",
      "|     37BBY|2014-12-15T13:01:...|2014-12-20T21:17:...|     blue|[https://swapi.de...|  male|        none|   175|https://swapi.dev...|     79|             Lobot|     light|                  []|                  []|https://swapi.dev...|                  []|2024-10-05 18:08:...| 26|2024-10-05 18:08:...|\n",
      "|     48BBY|2014-12-18T11:12:...|2014-12-20T21:17:...|     blue|[https://swapi.de...|female|      auburn|   150|https://swapi.dev...|unknown|        Mon Mothma|      fair|                  []|                  []|https://swapi.dev...|                  []|2024-10-05 18:08:...| 28|2024-10-05 18:08:...|\n",
      "|     92BBY|2014-12-19T16:54:...|2014-12-20T21:17:...|     blue|[https://swapi.de...|  male|       brown|   193|https://swapi.dev...|     89|      Qui-Gon Jinn|      fair|                  []|                  []|https://swapi.dev...|[https://swapi.de...|2024-10-05 18:08:...| 32|2024-10-05 18:08:...|\n",
      "|     91BBY|2014-12-19T17:21:...|2014-12-20T21:17:...|     blue|[https://swapi.de...|  male|       blond|   170|https://swapi.dev...|unknown|     Finis Valorum|      fair|                  []|                  []|https://swapi.dev...|                  []|2024-10-05 18:08:...| 34|2024-10-05 18:08:...|\n",
      "|   unknown|2014-12-19T17:45:...|2014-12-20T21:17:...|     blue|[https://swapi.de...|  male|       brown|   183|https://swapi.dev...|unknown|          Ric Olié|      fair|                  []|[https://swapi.de...|https://swapi.dev...|                  []|2024-10-05 18:08:...| 39|2024-10-05 18:08:...|\n",
      "|   unknown|2014-12-20T10:29:...|2014-12-20T21:17:...|     blue|[https://swapi.de...|female|        none|   184|https://swapi.dev...|     50|        Adi Gallia|      dark|[https://swapi.de...|                  []|https://swapi.dev...|                  []|2024-10-05 18:08:...| 55|2024-10-05 18:08:...|\n",
      "|   unknown|2014-12-20T10:53:...|2014-12-20T21:17:...|     blue|[https://swapi.de...|  male|        none|   196|https://swapi.dev...|unknown|        Mas Amedda|      blue|[https://swapi.de...|                  []|https://swapi.dev...|                  []|2024-10-05 18:08:...| 59|2024-10-05 18:08:...|\n",
      "|     82BBY|2014-12-20T15:59:...|2014-12-20T21:17:...|     blue|[https://swapi.de...|  male|       brown|   183|https://swapi.dev...|unknown|       Cliegg Lars|      fair|                  []|                  []|https://swapi.dev...|                  []|2024-10-05 18:08:...| 62|2024-10-05 18:08:...|\n",
      "|     58BBY|2014-12-20T16:45:...|2014-12-20T21:17:...|     blue|[https://swapi.de...|female|       black|   170|https://swapi.dev...|   56.2|   Luminara Unduli|    yellow|[https://swapi.de...|                  []|https://swapi.dev...|                  []|2024-10-05 18:08:...| 64|2024-10-05 18:08:...|\n",
      "|     40BBY|2014-12-20T16:46:...|2014-12-20T21:17:...|     blue|[https://swapi.de...|female|       black|   166|https://swapi.dev...|     50|     Barriss Offee|    yellow|[https://swapi.de...|                  []|https://swapi.dev...|                  []|2024-10-05 18:08:...| 65|2024-10-05 18:08:...|\n",
      "|   unknown|2014-12-20T17:32:...|2014-12-20T21:17:...|     blue|[https://swapi.de...|female|       white|   167|https://swapi.dev...|unknown|        Jocasta Nu|      fair|[https://swapi.de...|                  []|https://swapi.dev...|                  []|2024-10-05 18:08:...| 74|2024-10-05 18:08:...|\n",
      "|   unknown|2014-12-20T19:46:...|2014-12-20T21:17:...|     blue|[https://swapi.de...|  male|       brown|   234|https://swapi.dev...|    136|           Tarfful|     brown|[https://swapi.de...|                  []|https://swapi.dev...|                  []|2024-10-05 18:08:...| 80|2024-10-05 18:08:...|\n",
      "+----------+--------------------+--------------------+---------+--------------------+------+------------+------+--------------------+-------+------------------+----------+--------------------+--------------------+--------------------+--------------------+--------------------+---+--------------------+\n",
      "\n"
     ]
    }
   ],
   "source": [
    "sdf = spark.sql(\"SELECT * FROM hive_metastore.silver.people\")\n",
    "print(f\"No. Rows: {sdf.count()}\")\n",
    "sdf.show()"
   ]
  },
  {
   "cell_type": "code",
   "execution_count": 11,
   "metadata": {},
   "outputs": [
    {
     "name": "stdout",
     "output_type": "stream",
     "text": [
      "+----------+--------------------+--------------------+---------+--------------------+------+------------+------+--------------------+-------+------------------+----------+--------------------+--------------------+--------------------+--------------------+--------------------+---+\n",
      "|birth_year|             created|              edited|eye_color|               films|gender|  hair_color|height|           homeworld|   mass|              name|skin_color|             species|           starships|                 url|            vehicles|         LH_BronzeTS| id|\n",
      "+----------+--------------------+--------------------+---------+--------------------+------+------------+------+--------------------+-------+------------------+----------+--------------------+--------------------+--------------------+--------------------+--------------------+---+\n",
      "|     19BBY|2014-12-09T13:50:...|2014-12-20T21:17:...|     blue|[https://swapi.de...|  male|       blond|   172|https://swapi.dev...|     77|    Luke Skywalker|      fair|                  []|[https://swapi.de...|https://swapi.dev...|[https://swapi.de...|2024-10-05 18:08:...|  1|\n",
      "|     52BBY|2014-12-10T15:52:...|2014-12-20T21:17:...|     blue|[https://swapi.de...|  male| brown, grey|   178|https://swapi.dev...|    120|         Owen Lars|     light|                  []|                  []|https://swapi.dev...|                  []|2024-10-05 18:08:...|  6|\n",
      "|     47BBY|2014-12-10T15:53:...|2014-12-20T21:17:...|     blue|[https://swapi.de...|female|       brown|   165|https://swapi.dev...|     75|Beru Whitesun lars|     light|                  []|                  []|https://swapi.dev...|                  []|2024-10-05 18:08:...|  7|\n",
      "|   unknown|2014-12-20T17:32:...|2014-12-20T21:17:...|     blue|[https://swapi.de...|female|       white|   167|https://swapi.dev...|unknown|        Jocasta Nu|      fair|[https://swapi.de...|                  []|https://swapi.dev...|                  []|2024-10-05 18:08:...| 74|\n",
      "|   unknown|2014-12-20T19:46:...|2014-12-20T21:17:...|     blue|[https://swapi.de...|  male|       brown|   234|https://swapi.dev...|    136|           Tarfful|     brown|[https://swapi.de...|                  []|https://swapi.dev...|                  []|2024-10-05 18:08:...| 80|\n",
      "|   41.9BBY|2014-12-10T16:20:...|2014-12-20T21:17:...|     blue|[https://swapi.de...|  male|       blond|   188|https://swapi.dev...|     84|  Anakin Skywalker|      fair|                  []|[https://swapi.de...|https://swapi.dev...|[https://swapi.de...|2024-10-05 18:08:...| 11|\n",
      "|     64BBY|2014-12-10T16:26:...|2014-12-20T21:17:...|     blue|[https://swapi.de...|  male|auburn, grey|   180|https://swapi.dev...|unknown|    Wilhuff Tarkin|      fair|                  []|                  []|https://swapi.dev...|                  []|2024-10-05 18:08:...| 12|\n",
      "|    200BBY|2014-12-10T16:42:...|2014-12-20T21:17:...|     blue|[https://swapi.de...|  male|       brown|   228|https://swapi.dev...|    112|         Chewbacca|   unknown|[https://swapi.de...|[https://swapi.de...|https://swapi.dev...|[https://swapi.de...|2024-10-05 18:08:...| 13|\n",
      "|   unknown|2014-12-12T11:16:...|2014-12-20T21:17:...|     blue|[https://swapi.de...|  male|       brown|   180|https://swapi.dev...|    110|  Jek Tono Porkins|      fair|                  []|[https://swapi.de...|https://swapi.dev...|                  []|2024-10-05 18:08:...| 19|\n",
      "|     92BBY|2014-12-19T16:54:...|2014-12-20T21:17:...|     blue|[https://swapi.de...|  male|       brown|   193|https://swapi.dev...|     89|      Qui-Gon Jinn|      fair|                  []|                  []|https://swapi.dev...|[https://swapi.de...|2024-10-05 18:08:...| 32|\n",
      "|     91BBY|2014-12-19T17:21:...|2014-12-20T21:17:...|     blue|[https://swapi.de...|  male|       blond|   170|https://swapi.dev...|unknown|     Finis Valorum|      fair|                  []|                  []|https://swapi.dev...|                  []|2024-10-05 18:08:...| 34|\n",
      "|   unknown|2014-12-19T17:45:...|2014-12-20T21:17:...|     blue|[https://swapi.de...|  male|       brown|   183|https://swapi.dev...|unknown|          Ric Olié|      fair|                  []|[https://swapi.de...|https://swapi.dev...|                  []|2024-10-05 18:08:...| 39|\n",
      "|     37BBY|2014-12-15T13:01:...|2014-12-20T21:17:...|     blue|[https://swapi.de...|  male|        none|   175|https://swapi.dev...|     79|             Lobot|     light|                  []|                  []|https://swapi.dev...|                  []|2024-10-05 18:08:...| 26|\n",
      "|     48BBY|2014-12-18T11:12:...|2014-12-20T21:17:...|     blue|[https://swapi.de...|female|      auburn|   150|https://swapi.dev...|unknown|        Mon Mothma|      fair|                  []|                  []|https://swapi.dev...|                  []|2024-10-05 18:08:...| 28|\n",
      "|     82BBY|2014-12-20T15:59:...|2014-12-20T21:17:...|     blue|[https://swapi.de...|  male|       brown|   183|https://swapi.dev...|unknown|       Cliegg Lars|      fair|                  []|                  []|https://swapi.dev...|                  []|2024-10-05 18:08:...| 62|\n",
      "|     58BBY|2014-12-20T16:45:...|2014-12-20T21:17:...|     blue|[https://swapi.de...|female|       black|   170|https://swapi.dev...|   56.2|   Luminara Unduli|    yellow|[https://swapi.de...|                  []|https://swapi.dev...|                  []|2024-10-05 18:08:...| 64|\n",
      "|     40BBY|2014-12-20T16:46:...|2014-12-20T21:17:...|     blue|[https://swapi.de...|female|       black|   166|https://swapi.dev...|     50|     Barriss Offee|    yellow|[https://swapi.de...|                  []|https://swapi.dev...|                  []|2024-10-05 18:08:...| 65|\n",
      "|   unknown|2014-12-20T10:29:...|2014-12-20T21:17:...|     blue|[https://swapi.de...|female|        none|   184|https://swapi.dev...|     50|        Adi Gallia|      dark|[https://swapi.de...|                  []|https://swapi.dev...|                  []|2024-10-05 18:08:...| 55|\n",
      "|   unknown|2014-12-20T10:53:...|2014-12-20T21:17:...|     blue|[https://swapi.de...|  male|        none|   196|https://swapi.dev...|unknown|        Mas Amedda|      blue|[https://swapi.de...|                  []|https://swapi.dev...|                  []|2024-10-05 18:08:...| 59|\n",
      "+----------+--------------------+--------------------+---------+--------------------+------+------------+------+--------------------+-------+------------------+----------+--------------------+--------------------+--------------------+--------------------+--------------------+---+\n",
      "\n"
     ]
    }
   ],
   "source": [
    "#debug\n",
    "silver_instance.debug_one(\"people\", n=2).show()"
   ]
  },
  {
   "cell_type": "code",
   "execution_count": 12,
   "metadata": {},
   "outputs": [],
   "source": [
    "#without load filter \n",
    "silver_instance = silver.SilverOverwrite(spark, **options)\n",
    "silver_instance.execute_one(\"people\")"
   ]
  },
  {
   "cell_type": "code",
   "execution_count": 13,
   "metadata": {},
   "outputs": [
    {
     "name": "stdout",
     "output_type": "stream",
     "text": [
      "No. Rows: 82\n",
      "+----------+--------------------+--------------------+---------+--------------------+-------------+-------------+------+--------------------+-------+--------------------+----------------+--------------------+--------------------+--------------------+--------------------+--------------------+----+--------------------+\n",
      "|birth_year|             created|              edited|eye_color|               films|       gender|   hair_color|height|           homeworld|   mass|                name|      skin_color|             species|           starships|                 url|            vehicles|         LH_BronzeTS|  id|         LH_SilverTS|\n",
      "+----------+--------------------+--------------------+---------+--------------------+-------------+-------------+------+--------------------+-------+--------------------+----------------+--------------------+--------------------+--------------------+--------------------+--------------------+----+--------------------+\n",
      "|     19BBY|2014-12-09T13:50:...|2014-12-20T21:17:...|     blue|[https://swapi.de...|         male|        blond|   172|https://swapi.dev...|     77|      Luke Skywalker|            fair|                  []|[https://swapi.de...|https://swapi.dev...|[https://swapi.de...|2024-10-05 18:08:...|NULL|2024-10-05 18:08:...|\n",
      "|    112BBY|2014-12-10T15:10:...|2014-12-20T21:17:...|   yellow|[https://swapi.de...|          n/a|          n/a|   167|https://swapi.dev...|     75|               C-3PO|            gold|[https://swapi.de...|                  []|https://swapi.dev...|                  []|2024-10-05 18:08:...|NULL|2024-10-05 18:08:...|\n",
      "|     33BBY|2014-12-10T15:11:...|2014-12-20T21:17:...|      red|[https://swapi.de...|          n/a|          n/a|    96|https://swapi.dev...|     32|               R2-D2|     white, blue|[https://swapi.de...|                  []|https://swapi.dev...|                  []|2024-10-05 18:08:...|NULL|2024-10-05 18:08:...|\n",
      "|   41.9BBY|2014-12-10T15:18:...|2014-12-20T21:17:...|   yellow|[https://swapi.de...|         male|         none|   202|https://swapi.dev...|    136|         Darth Vader|           white|                  []|[https://swapi.de...|https://swapi.dev...|                  []|2024-10-05 18:08:...|NULL|2024-10-05 18:08:...|\n",
      "|     19BBY|2014-12-10T15:20:...|2014-12-20T21:17:...|    brown|[https://swapi.de...|       female|        brown|   150|https://swapi.dev...|     49|         Leia Organa|           light|                  []|                  []|https://swapi.dev...|[https://swapi.de...|2024-10-05 18:08:...|NULL|2024-10-05 18:08:...|\n",
      "|     52BBY|2014-12-10T15:52:...|2014-12-20T21:17:...|     blue|[https://swapi.de...|         male|  brown, grey|   178|https://swapi.dev...|    120|           Owen Lars|           light|                  []|                  []|https://swapi.dev...|                  []|2024-10-05 18:08:...|NULL|2024-10-05 18:08:...|\n",
      "|     47BBY|2014-12-10T15:53:...|2014-12-20T21:17:...|     blue|[https://swapi.de...|       female|        brown|   165|https://swapi.dev...|     75|  Beru Whitesun lars|           light|                  []|                  []|https://swapi.dev...|                  []|2024-10-05 18:08:...|NULL|2024-10-05 18:08:...|\n",
      "|   unknown|2014-12-10T15:57:...|2014-12-20T21:17:...|      red|[https://swapi.de...|          n/a|          n/a|    97|https://swapi.dev...|     32|               R5-D4|      white, red|[https://swapi.de...|                  []|https://swapi.dev...|                  []|2024-10-05 18:08:...|NULL|2024-10-05 18:08:...|\n",
      "|     24BBY|2014-12-10T15:59:...|2014-12-20T21:17:...|    brown|[https://swapi.de...|         male|        black|   183|https://swapi.dev...|     84|   Biggs Darklighter|           light|                  []|[https://swapi.de...|https://swapi.dev...|                  []|2024-10-05 18:08:...|NULL|2024-10-05 18:08:...|\n",
      "|     57BBY|2014-12-10T16:16:...|2014-12-20T21:17:...|blue-gray|[https://swapi.de...|         male|auburn, white|   182|https://swapi.dev...|     77|      Obi-Wan Kenobi|            fair|                  []|[https://swapi.de...|https://swapi.dev...|[https://swapi.de...|2024-10-05 18:08:...|NULL|2024-10-05 18:08:...|\n",
      "|   41.9BBY|2014-12-10T16:20:...|2014-12-20T21:17:...|     blue|[https://swapi.de...|         male|        blond|   188|https://swapi.dev...|     84|    Anakin Skywalker|            fair|                  []|[https://swapi.de...|https://swapi.dev...|[https://swapi.de...|2024-10-05 18:08:...|NULL|2024-10-05 18:08:...|\n",
      "|     64BBY|2014-12-10T16:26:...|2014-12-20T21:17:...|     blue|[https://swapi.de...|         male| auburn, grey|   180|https://swapi.dev...|unknown|      Wilhuff Tarkin|            fair|                  []|                  []|https://swapi.dev...|                  []|2024-10-05 18:08:...|NULL|2024-10-05 18:08:...|\n",
      "|    200BBY|2014-12-10T16:42:...|2014-12-20T21:17:...|     blue|[https://swapi.de...|         male|        brown|   228|https://swapi.dev...|    112|           Chewbacca|         unknown|[https://swapi.de...|[https://swapi.de...|https://swapi.dev...|[https://swapi.de...|2024-10-05 18:08:...|NULL|2024-10-05 18:08:...|\n",
      "|     29BBY|2014-12-10T16:49:...|2014-12-20T21:17:...|    brown|[https://swapi.de...|         male|        brown|   180|https://swapi.dev...|     80|            Han Solo|            fair|                  []|[https://swapi.de...|https://swapi.dev...|                  []|2024-10-05 18:08:...|NULL|2024-10-05 18:08:...|\n",
      "|     44BBY|2014-12-10T17:03:...|2014-12-20T21:17:...|    black|[https://swapi.de...|         male|          n/a|   173|https://swapi.dev...|     74|              Greedo|           green|[https://swapi.de...|                  []|https://swapi.dev...|                  []|2024-10-05 18:08:...|NULL|2024-10-05 18:08:...|\n",
      "|    600BBY|2014-12-10T17:11:...|2014-12-20T21:17:...|   orange|[https://swapi.de...|hermaphrodite|          n/a|   175|https://swapi.dev...|  1,358|Jabba Desilijic T...|green-tan, brown|[https://swapi.de...|                  []|https://swapi.dev...|                  []|2024-10-05 18:08:...|NULL|2024-10-05 18:08:...|\n",
      "|     21BBY|2014-12-12T11:08:...|2014-12-20T21:17:...|    hazel|[https://swapi.de...|         male|        brown|   170|https://swapi.dev...|     77|      Wedge Antilles|            fair|                  []|[https://swapi.de...|https://swapi.dev...|[https://swapi.de...|2024-10-05 18:08:...|NULL|2024-10-05 18:08:...|\n",
      "|   unknown|2014-12-12T11:16:...|2014-12-20T21:17:...|     blue|[https://swapi.de...|         male|        brown|   180|https://swapi.dev...|    110|    Jek Tono Porkins|            fair|                  []|[https://swapi.de...|https://swapi.dev...|                  []|2024-10-05 18:08:...|NULL|2024-10-05 18:08:...|\n",
      "|    896BBY|2014-12-15T12:26:...|2014-12-20T21:17:...|    brown|[https://swapi.de...|         male|        white|    66|https://swapi.dev...|     17|                Yoda|           green|[https://swapi.de...|                  []|https://swapi.dev...|                  []|2024-10-05 18:08:...|NULL|2024-10-05 18:08:...|\n",
      "|     82BBY|2014-12-15T12:48:...|2014-12-20T21:17:...|   yellow|[https://swapi.de...|         male|         grey|   170|https://swapi.dev...|     75|           Palpatine|            pale|                  []|                  []|https://swapi.dev...|                  []|2024-10-05 18:08:...|NULL|2024-10-05 18:08:...|\n",
      "+----------+--------------------+--------------------+---------+--------------------+-------------+-------------+------+--------------------+-------+--------------------+----------------+--------------------+--------------------+--------------------+--------------------+--------------------+----+--------------------+\n",
      "only showing top 20 rows\n",
      "\n"
     ]
    }
   ],
   "source": [
    "sdf = spark.sql(\"SELECT * FROM hive_metastore.silver.people\")\n",
    "print(f\"No. Rows: {sdf.count()}\")\n",
    "sdf.show()"
   ]
  },
  {
   "cell_type": "code",
   "execution_count": 14,
   "metadata": {},
   "outputs": [],
   "source": [
    "#for all tables\n",
    "silver_instance = silver.SilverOverwrite(spark, **options)\n",
    "silver_instance.execute_all([\"people\", \"planets\"])"
   ]
  },
  {
   "cell_type": "code",
   "execution_count": 15,
   "metadata": {},
   "outputs": [
    {
     "name": "stdout",
     "output_type": "stream",
     "text": [
      "No. Rows: 82\n",
      "+----------+--------------------+--------------------+---------+--------------------+-------------+-------------+------+--------------------+-------+--------------------+----------------+--------------------+--------------------+--------------------+--------------------+--------------------+----+--------------------+\n",
      "|birth_year|             created|              edited|eye_color|               films|       gender|   hair_color|height|           homeworld|   mass|                name|      skin_color|             species|           starships|                 url|            vehicles|         LH_BronzeTS|  id|         LH_SilverTS|\n",
      "+----------+--------------------+--------------------+---------+--------------------+-------------+-------------+------+--------------------+-------+--------------------+----------------+--------------------+--------------------+--------------------+--------------------+--------------------+----+--------------------+\n",
      "|     19BBY|2014-12-09T13:50:...|2014-12-20T21:17:...|     blue|[https://swapi.de...|         male|        blond|   172|https://swapi.dev...|     77|      Luke Skywalker|            fair|                  []|[https://swapi.de...|https://swapi.dev...|[https://swapi.de...|2024-10-05 18:08:...|NULL|2024-10-05 18:08:...|\n",
      "|    112BBY|2014-12-10T15:10:...|2014-12-20T21:17:...|   yellow|[https://swapi.de...|          n/a|          n/a|   167|https://swapi.dev...|     75|               C-3PO|            gold|[https://swapi.de...|                  []|https://swapi.dev...|                  []|2024-10-05 18:08:...|NULL|2024-10-05 18:08:...|\n",
      "|     33BBY|2014-12-10T15:11:...|2014-12-20T21:17:...|      red|[https://swapi.de...|          n/a|          n/a|    96|https://swapi.dev...|     32|               R2-D2|     white, blue|[https://swapi.de...|                  []|https://swapi.dev...|                  []|2024-10-05 18:08:...|NULL|2024-10-05 18:08:...|\n",
      "|   41.9BBY|2014-12-10T15:18:...|2014-12-20T21:17:...|   yellow|[https://swapi.de...|         male|         none|   202|https://swapi.dev...|    136|         Darth Vader|           white|                  []|[https://swapi.de...|https://swapi.dev...|                  []|2024-10-05 18:08:...|NULL|2024-10-05 18:08:...|\n",
      "|     19BBY|2014-12-10T15:20:...|2014-12-20T21:17:...|    brown|[https://swapi.de...|       female|        brown|   150|https://swapi.dev...|     49|         Leia Organa|           light|                  []|                  []|https://swapi.dev...|[https://swapi.de...|2024-10-05 18:08:...|NULL|2024-10-05 18:08:...|\n",
      "|     52BBY|2014-12-10T15:52:...|2014-12-20T21:17:...|     blue|[https://swapi.de...|         male|  brown, grey|   178|https://swapi.dev...|    120|           Owen Lars|           light|                  []|                  []|https://swapi.dev...|                  []|2024-10-05 18:08:...|NULL|2024-10-05 18:08:...|\n",
      "|     47BBY|2014-12-10T15:53:...|2014-12-20T21:17:...|     blue|[https://swapi.de...|       female|        brown|   165|https://swapi.dev...|     75|  Beru Whitesun lars|           light|                  []|                  []|https://swapi.dev...|                  []|2024-10-05 18:08:...|NULL|2024-10-05 18:08:...|\n",
      "|   unknown|2014-12-10T15:57:...|2014-12-20T21:17:...|      red|[https://swapi.de...|          n/a|          n/a|    97|https://swapi.dev...|     32|               R5-D4|      white, red|[https://swapi.de...|                  []|https://swapi.dev...|                  []|2024-10-05 18:08:...|NULL|2024-10-05 18:08:...|\n",
      "|     24BBY|2014-12-10T15:59:...|2014-12-20T21:17:...|    brown|[https://swapi.de...|         male|        black|   183|https://swapi.dev...|     84|   Biggs Darklighter|           light|                  []|[https://swapi.de...|https://swapi.dev...|                  []|2024-10-05 18:08:...|NULL|2024-10-05 18:08:...|\n",
      "|     57BBY|2014-12-10T16:16:...|2014-12-20T21:17:...|blue-gray|[https://swapi.de...|         male|auburn, white|   182|https://swapi.dev...|     77|      Obi-Wan Kenobi|            fair|                  []|[https://swapi.de...|https://swapi.dev...|[https://swapi.de...|2024-10-05 18:08:...|NULL|2024-10-05 18:08:...|\n",
      "|   41.9BBY|2014-12-10T16:20:...|2014-12-20T21:17:...|     blue|[https://swapi.de...|         male|        blond|   188|https://swapi.dev...|     84|    Anakin Skywalker|            fair|                  []|[https://swapi.de...|https://swapi.dev...|[https://swapi.de...|2024-10-05 18:08:...|NULL|2024-10-05 18:08:...|\n",
      "|     64BBY|2014-12-10T16:26:...|2014-12-20T21:17:...|     blue|[https://swapi.de...|         male| auburn, grey|   180|https://swapi.dev...|unknown|      Wilhuff Tarkin|            fair|                  []|                  []|https://swapi.dev...|                  []|2024-10-05 18:08:...|NULL|2024-10-05 18:08:...|\n",
      "|    200BBY|2014-12-10T16:42:...|2014-12-20T21:17:...|     blue|[https://swapi.de...|         male|        brown|   228|https://swapi.dev...|    112|           Chewbacca|         unknown|[https://swapi.de...|[https://swapi.de...|https://swapi.dev...|[https://swapi.de...|2024-10-05 18:08:...|NULL|2024-10-05 18:08:...|\n",
      "|     29BBY|2014-12-10T16:49:...|2014-12-20T21:17:...|    brown|[https://swapi.de...|         male|        brown|   180|https://swapi.dev...|     80|            Han Solo|            fair|                  []|[https://swapi.de...|https://swapi.dev...|                  []|2024-10-05 18:08:...|NULL|2024-10-05 18:08:...|\n",
      "|     44BBY|2014-12-10T17:03:...|2014-12-20T21:17:...|    black|[https://swapi.de...|         male|          n/a|   173|https://swapi.dev...|     74|              Greedo|           green|[https://swapi.de...|                  []|https://swapi.dev...|                  []|2024-10-05 18:08:...|NULL|2024-10-05 18:08:...|\n",
      "|    600BBY|2014-12-10T17:11:...|2014-12-20T21:17:...|   orange|[https://swapi.de...|hermaphrodite|          n/a|   175|https://swapi.dev...|  1,358|Jabba Desilijic T...|green-tan, brown|[https://swapi.de...|                  []|https://swapi.dev...|                  []|2024-10-05 18:08:...|NULL|2024-10-05 18:08:...|\n",
      "|     21BBY|2014-12-12T11:08:...|2014-12-20T21:17:...|    hazel|[https://swapi.de...|         male|        brown|   170|https://swapi.dev...|     77|      Wedge Antilles|            fair|                  []|[https://swapi.de...|https://swapi.dev...|[https://swapi.de...|2024-10-05 18:08:...|NULL|2024-10-05 18:08:...|\n",
      "|   unknown|2014-12-12T11:16:...|2014-12-20T21:17:...|     blue|[https://swapi.de...|         male|        brown|   180|https://swapi.dev...|    110|    Jek Tono Porkins|            fair|                  []|[https://swapi.de...|https://swapi.dev...|                  []|2024-10-05 18:08:...|NULL|2024-10-05 18:08:...|\n",
      "|    896BBY|2014-12-15T12:26:...|2014-12-20T21:17:...|    brown|[https://swapi.de...|         male|        white|    66|https://swapi.dev...|     17|                Yoda|           green|[https://swapi.de...|                  []|https://swapi.dev...|                  []|2024-10-05 18:08:...|NULL|2024-10-05 18:08:...|\n",
      "|     82BBY|2014-12-15T12:48:...|2014-12-20T21:17:...|   yellow|[https://swapi.de...|         male|         grey|   170|https://swapi.dev...|     75|           Palpatine|            pale|                  []|                  []|https://swapi.dev...|                  []|2024-10-05 18:08:...|NULL|2024-10-05 18:08:...|\n",
      "+----------+--------------------+--------------------+---------+--------------------+-------------+-------------+------+--------------------+-------+--------------------+----------------+--------------------+--------------------+--------------------+--------------------+--------------------+----+--------------------+\n",
      "only showing top 20 rows\n",
      "\n"
     ]
    }
   ],
   "source": [
    "sdf = spark.sql(\"SELECT * FROM hive_metastore.silver.people\")\n",
    "print(f\"No. Rows: {sdf.count()}\")\n",
    "sdf.show()"
   ]
  },
  {
   "cell_type": "code",
   "execution_count": 16,
   "metadata": {},
   "outputs": [
    {
     "name": "stdout",
     "output_type": "stream",
     "text": [
      "No. Rows: 60\n",
      "+--------------------+--------------------+--------+--------------------+--------------------+--------------------+--------------+--------------+-------------+--------------------+---------------+-------------+--------------------+--------------------+--------------------+--------------------+\n",
      "|             climate|             created|diameter|              edited|               films|             gravity|          name|orbital_period|   population|           residents|rotation_period|surface_water|             terrain|                 url|         LH_BronzeTS|         LH_SilverTS|\n",
      "+--------------------+--------------------+--------+--------------------+--------------------+--------------------+--------------+--------------+-------------+--------------------+---------------+-------------+--------------------+--------------------+--------------------+--------------------+\n",
      "|                arid|2014-12-09T13:50:...|   10465|2014-12-20T20:58:...|[https://swapi.de...|          1 standard|      Tatooine|           304|       200000|[https://swapi.de...|             23|            1|              desert|https://swapi.dev...|2024-10-05 18:08:...|2024-10-05 18:08:...|\n",
      "|           temperate|2014-12-10T11:35:...|   12500|2014-12-20T20:58:...|[https://swapi.de...|          1 standard|      Alderaan|           364|   2000000000|[https://swapi.de...|             24|           40|grasslands, mount...|https://swapi.dev...|2024-10-05 18:08:...|2024-10-05 18:08:...|\n",
      "| temperate, tropical|2014-12-10T11:37:...|   10200|2014-12-20T20:58:...|[https://swapi.de...|          1 standard|      Yavin IV|          4818|         1000|                  []|             24|            8| jungle, rainforests|https://swapi.dev...|2024-10-05 18:08:...|2024-10-05 18:08:...|\n",
      "|              frozen|2014-12-10T11:39:...|    7200|2014-12-20T20:58:...|[https://swapi.de...|        1.1 standard|          Hoth|           549|      unknown|                  []|             23|          100|tundra, ice caves...|https://swapi.dev...|2024-10-05 18:08:...|2024-10-05 18:08:...|\n",
      "|               murky|2014-12-10T11:42:...|    8900|2014-12-20T20:58:...|[https://swapi.de...|                 N/A|       Dagobah|           341|      unknown|                  []|             23|            8|      swamp, jungles|https://swapi.dev...|2024-10-05 18:08:...|2024-10-05 18:08:...|\n",
      "|           temperate|2014-12-10T11:43:...|  118000|2014-12-20T20:58:...|[https://swapi.de...|1.5 (surface), 1 ...|        Bespin|          5110|      6000000|[https://swapi.de...|             12|            0|           gas giant|https://swapi.dev...|2024-10-05 18:08:...|2024-10-05 18:08:...|\n",
      "|           temperate|2014-12-10T11:50:...|    4900|2014-12-20T20:58:...|[https://swapi.de...|       0.85 standard|         Endor|           402|     30000000|[https://swapi.de...|             18|            8|forests, mountain...|https://swapi.dev...|2024-10-05 18:08:...|2024-10-05 18:08:...|\n",
      "|           temperate|2014-12-10T11:52:...|   12120|2014-12-20T20:58:...|[https://swapi.de...|          1 standard|         Naboo|           312|   4500000000|[https://swapi.de...|             26|           12|grassy hills, swa...|https://swapi.dev...|2024-10-05 18:08:...|2024-10-05 18:08:...|\n",
      "|           temperate|2014-12-10T11:54:...|   12240|2014-12-20T20:58:...|[https://swapi.de...|          1 standard|     Coruscant|           368|1000000000000|[https://swapi.de...|             24|      unknown|cityscape, mountains|https://swapi.dev...|2024-10-05 18:08:...|2024-10-05 18:08:...|\n",
      "|           temperate|2014-12-10T12:45:...|   19720|2014-12-20T20:58:...|[https://swapi.de...|          1 standard|        Kamino|           463|   1000000000|[https://swapi.de...|             27|          100|               ocean|https://swapi.dev...|2024-10-05 18:08:...|2024-10-05 18:08:...|\n",
      "|     temperate, arid|2014-12-10T12:47:...|   11370|2014-12-20T20:58:...|[https://swapi.de...|        0.9 standard|      Geonosis|           256| 100000000000|[https://swapi.de...|             30|            5|rock, desert, mou...|https://swapi.dev...|2024-10-05 18:08:...|2024-10-05 18:08:...|\n",
      "|temperate, arid, ...|2014-12-10T12:49:...|   12900|2014-12-20T20:58:...|[https://swapi.de...|          1 standard|        Utapau|           351|     95000000|[https://swapi.de...|             27|          0.9|scrublands, savan...|https://swapi.dev...|2024-10-05 18:08:...|2024-10-05 18:08:...|\n",
      "|                 hot|2014-12-10T12:50:...|    4200|2014-12-20T20:58:...|[https://swapi.de...|          1 standard|      Mustafar|           412|        20000|                  []|             36|            0|volcanoes, lava r...|https://swapi.dev...|2024-10-05 18:08:...|2024-10-05 18:08:...|\n",
      "|            tropical|2014-12-10T13:32:...|   12765|2014-12-20T20:58:...|[https://swapi.de...|          1 standard|      Kashyyyk|           381|     45000000|[https://swapi.de...|             26|           60|jungle, forests, ...|https://swapi.dev...|2024-10-05 18:08:...|2024-10-05 18:08:...|\n",
      "|artificial temper...|2014-12-10T13:33:...|       0|2014-12-20T20:58:...|[https://swapi.de...|       0.56 standard|   Polis Massa|           590|      1000000|                  []|             24|            0|    airless asteroid|https://swapi.dev...|2024-10-05 18:08:...|2024-10-05 18:08:...|\n",
      "|              frigid|2014-12-10T13:43:...|   10088|2014-12-20T20:58:...|[https://swapi.de...|          1 standard|       Mygeeto|           167|     19000000|                  []|             12|      unknown|glaciers, mountai...|https://swapi.dev...|2024-10-05 18:08:...|2024-10-05 18:08:...|\n",
      "|          hot, humid|2014-12-10T13:44:...|    9100|2014-12-20T20:58:...|[https://swapi.de...|       0.75 standard|       Felucia|           231|      8500000|                  []|             34|      unknown|      fungus forests|https://swapi.dev...|2024-10-05 18:08:...|2024-10-05 18:08:...|\n",
      "|    temperate, moist|2014-12-10T13:46:...|       0|2014-12-20T20:58:...|[https://swapi.de...|          1 standard|Cato Neimoidia|           278|     10000000|[https://swapi.de...|             25|      unknown|mountains, fields...|https://swapi.dev...|2024-10-05 18:08:...|2024-10-05 18:08:...|\n",
      "|                 hot|2014-12-10T13:47:...|   14920|2014-12-20T20:58:...|[https://swapi.de...|             unknown|     Saleucami|           392|   1400000000|                  []|             26|      unknown|caves, desert, mo...|https://swapi.dev...|2024-10-05 18:08:...|2024-10-05 18:08:...|\n",
      "|           temperate|2014-12-10T16:16:...|       0|2014-12-20T20:58:...|                  []|          1 standard|       Stewjon|       unknown|      unknown|[https://swapi.de...|        unknown|      unknown|               grass|https://swapi.dev...|2024-10-05 18:08:...|2024-10-05 18:08:...|\n",
      "+--------------------+--------------------+--------+--------------------+--------------------+--------------------+--------------+--------------+-------------+--------------------+---------------+-------------+--------------------+--------------------+--------------------+--------------------+\n",
      "only showing top 20 rows\n",
      "\n"
     ]
    }
   ],
   "source": [
    "sdf = spark.sql(\"SELECT * FROM hive_metastore.silver.planets\")\n",
    "print(f\"No. Rows: {sdf.count()}\")\n",
    "sdf.show()"
   ]
  },
  {
   "cell_type": "markdown",
   "metadata": {},
   "source": [
    "# 3 Replace Where"
   ]
  },
  {
   "cell_type": "code",
   "execution_count": 17,
   "metadata": {},
   "outputs": [],
   "source": [
    "class StarWarsSilver(silver.SilverReplaceWhere): \n",
    "    def filter_load(self, sdf: DataFrame, table: str) -> DataFrame:\n",
    "        return sdf.where(\"edited == '2014-12-20T21:17:50.403000Z'\")\n",
    "    \n",
    "    def get_replace_condition(self, sdf: DataFrame, table: str) -> str:\n",
    "        return \"edited == '2014-12-20T21:17:50.403000Z'\"\n",
    "    \n",
    "silver_instance = StarWarsSilver(spark, **options)\n",
    "silver_instance.execute_one(\"people\")"
   ]
  },
  {
   "cell_type": "code",
   "execution_count": 18,
   "metadata": {},
   "outputs": [
    {
     "name": "stdout",
     "output_type": "stream",
     "text": [
      "No. Rows: 82\n",
      "+----------+--------------------+--------------------+---------+--------------------+-------------+-------------+------+--------------------+-------+--------------------+----------------+--------------------+--------------------+--------------------+--------------------+--------------------+----+--------------------+\n",
      "|birth_year|             created|              edited|eye_color|               films|       gender|   hair_color|height|           homeworld|   mass|                name|      skin_color|             species|           starships|                 url|            vehicles|         LH_BronzeTS|  id|         LH_SilverTS|\n",
      "+----------+--------------------+--------------------+---------+--------------------+-------------+-------------+------+--------------------+-------+--------------------+----------------+--------------------+--------------------+--------------------+--------------------+--------------------+----+--------------------+\n",
      "|     19BBY|2014-12-09T13:50:...|2014-12-20T21:17:...|     blue|[https://swapi.de...|         male|        blond|   172|https://swapi.dev...|     77|      Luke Skywalker|            fair|                  []|[https://swapi.de...|https://swapi.dev...|[https://swapi.de...|2024-10-05 18:08:...|NULL|2024-10-05 18:08:...|\n",
      "|    112BBY|2014-12-10T15:10:...|2014-12-20T21:17:...|   yellow|[https://swapi.de...|          n/a|          n/a|   167|https://swapi.dev...|     75|               C-3PO|            gold|[https://swapi.de...|                  []|https://swapi.dev...|                  []|2024-10-05 18:08:...|NULL|2024-10-05 18:08:...|\n",
      "|     33BBY|2014-12-10T15:11:...|2014-12-20T21:17:...|      red|[https://swapi.de...|          n/a|          n/a|    96|https://swapi.dev...|     32|               R2-D2|     white, blue|[https://swapi.de...|                  []|https://swapi.dev...|                  []|2024-10-05 18:08:...|NULL|2024-10-05 18:08:...|\n",
      "|   41.9BBY|2014-12-10T15:18:...|2014-12-20T21:17:...|   yellow|[https://swapi.de...|         male|         none|   202|https://swapi.dev...|    136|         Darth Vader|           white|                  []|[https://swapi.de...|https://swapi.dev...|                  []|2024-10-05 18:08:...|NULL|2024-10-05 18:08:...|\n",
      "|     19BBY|2014-12-10T15:20:...|2014-12-20T21:17:...|    brown|[https://swapi.de...|       female|        brown|   150|https://swapi.dev...|     49|         Leia Organa|           light|                  []|                  []|https://swapi.dev...|[https://swapi.de...|2024-10-05 18:08:...|NULL|2024-10-05 18:08:...|\n",
      "|     52BBY|2014-12-10T15:52:...|2014-12-20T21:17:...|     blue|[https://swapi.de...|         male|  brown, grey|   178|https://swapi.dev...|    120|           Owen Lars|           light|                  []|                  []|https://swapi.dev...|                  []|2024-10-05 18:08:...|NULL|2024-10-05 18:08:...|\n",
      "|     47BBY|2014-12-10T15:53:...|2014-12-20T21:17:...|     blue|[https://swapi.de...|       female|        brown|   165|https://swapi.dev...|     75|  Beru Whitesun lars|           light|                  []|                  []|https://swapi.dev...|                  []|2024-10-05 18:08:...|NULL|2024-10-05 18:08:...|\n",
      "|   unknown|2014-12-10T15:57:...|2014-12-20T21:17:...|      red|[https://swapi.de...|          n/a|          n/a|    97|https://swapi.dev...|     32|               R5-D4|      white, red|[https://swapi.de...|                  []|https://swapi.dev...|                  []|2024-10-05 18:08:...|NULL|2024-10-05 18:08:...|\n",
      "|     24BBY|2014-12-10T15:59:...|2014-12-20T21:17:...|    brown|[https://swapi.de...|         male|        black|   183|https://swapi.dev...|     84|   Biggs Darklighter|           light|                  []|[https://swapi.de...|https://swapi.dev...|                  []|2024-10-05 18:08:...|NULL|2024-10-05 18:08:...|\n",
      "|     57BBY|2014-12-10T16:16:...|2014-12-20T21:17:...|blue-gray|[https://swapi.de...|         male|auburn, white|   182|https://swapi.dev...|     77|      Obi-Wan Kenobi|            fair|                  []|[https://swapi.de...|https://swapi.dev...|[https://swapi.de...|2024-10-05 18:08:...|NULL|2024-10-05 18:08:...|\n",
      "|   41.9BBY|2014-12-10T16:20:...|2014-12-20T21:17:...|     blue|[https://swapi.de...|         male|        blond|   188|https://swapi.dev...|     84|    Anakin Skywalker|            fair|                  []|[https://swapi.de...|https://swapi.dev...|[https://swapi.de...|2024-10-05 18:08:...|NULL|2024-10-05 18:08:...|\n",
      "|     64BBY|2014-12-10T16:26:...|2014-12-20T21:17:...|     blue|[https://swapi.de...|         male| auburn, grey|   180|https://swapi.dev...|unknown|      Wilhuff Tarkin|            fair|                  []|                  []|https://swapi.dev...|                  []|2024-10-05 18:08:...|NULL|2024-10-05 18:08:...|\n",
      "|    200BBY|2014-12-10T16:42:...|2014-12-20T21:17:...|     blue|[https://swapi.de...|         male|        brown|   228|https://swapi.dev...|    112|           Chewbacca|         unknown|[https://swapi.de...|[https://swapi.de...|https://swapi.dev...|[https://swapi.de...|2024-10-05 18:08:...|NULL|2024-10-05 18:08:...|\n",
      "|     29BBY|2014-12-10T16:49:...|2014-12-20T21:17:...|    brown|[https://swapi.de...|         male|        brown|   180|https://swapi.dev...|     80|            Han Solo|            fair|                  []|[https://swapi.de...|https://swapi.dev...|                  []|2024-10-05 18:08:...|NULL|2024-10-05 18:08:...|\n",
      "|     44BBY|2014-12-10T17:03:...|2014-12-20T21:17:...|    black|[https://swapi.de...|         male|          n/a|   173|https://swapi.dev...|     74|              Greedo|           green|[https://swapi.de...|                  []|https://swapi.dev...|                  []|2024-10-05 18:08:...|NULL|2024-10-05 18:08:...|\n",
      "|    600BBY|2014-12-10T17:11:...|2014-12-20T21:17:...|   orange|[https://swapi.de...|hermaphrodite|          n/a|   175|https://swapi.dev...|  1,358|Jabba Desilijic T...|green-tan, brown|[https://swapi.de...|                  []|https://swapi.dev...|                  []|2024-10-05 18:08:...|NULL|2024-10-05 18:08:...|\n",
      "|     21BBY|2014-12-12T11:08:...|2014-12-20T21:17:...|    hazel|[https://swapi.de...|         male|        brown|   170|https://swapi.dev...|     77|      Wedge Antilles|            fair|                  []|[https://swapi.de...|https://swapi.dev...|[https://swapi.de...|2024-10-05 18:08:...|NULL|2024-10-05 18:08:...|\n",
      "|   unknown|2014-12-12T11:16:...|2014-12-20T21:17:...|     blue|[https://swapi.de...|         male|        brown|   180|https://swapi.dev...|    110|    Jek Tono Porkins|            fair|                  []|[https://swapi.de...|https://swapi.dev...|                  []|2024-10-05 18:08:...|NULL|2024-10-05 18:08:...|\n",
      "|    896BBY|2014-12-15T12:26:...|2014-12-20T21:17:...|    brown|[https://swapi.de...|         male|        white|    66|https://swapi.dev...|     17|                Yoda|           green|[https://swapi.de...|                  []|https://swapi.dev...|                  []|2024-10-05 18:08:...|NULL|2024-10-05 18:08:...|\n",
      "|     82BBY|2014-12-15T12:48:...|2014-12-20T21:17:...|   yellow|[https://swapi.de...|         male|         grey|   170|https://swapi.dev...|     75|           Palpatine|            pale|                  []|                  []|https://swapi.dev...|                  []|2024-10-05 18:08:...|NULL|2024-10-05 18:08:...|\n",
      "+----------+--------------------+--------------------+---------+--------------------+-------------+-------------+------+--------------------+-------+--------------------+----------------+--------------------+--------------------+--------------------+--------------------+--------------------+----+--------------------+\n",
      "only showing top 20 rows\n",
      "\n"
     ]
    }
   ],
   "source": [
    "sdf = spark.sql(\"SELECT * FROM hive_metastore.silver.people\")\n",
    "print(f\"No. Rows: {sdf.count()}\")\n",
    "sdf.show()"
   ]
  },
  {
   "cell_type": "markdown",
   "metadata": {},
   "source": [
    "# 4 Append"
   ]
  },
  {
   "cell_type": "code",
   "execution_count": 19,
   "metadata": {},
   "outputs": [],
   "source": [
    "silver_instance = silver.SilverAppend(spark, **options)\n",
    "silver_instance.execute_one(\"people\")"
   ]
  },
  {
   "cell_type": "code",
   "execution_count": 20,
   "metadata": {},
   "outputs": [
    {
     "name": "stdout",
     "output_type": "stream",
     "text": [
      "No. Rows: 164\n",
      "+----------+--------------------+--------------------+---------+--------------------+-------------+-------------+------+--------------------+-------+--------------------+----------------+--------------------+--------------------+--------------------+--------------------+--------------------+----+--------------------+\n",
      "|birth_year|             created|              edited|eye_color|               films|       gender|   hair_color|height|           homeworld|   mass|                name|      skin_color|             species|           starships|                 url|            vehicles|         LH_BronzeTS|  id|         LH_SilverTS|\n",
      "+----------+--------------------+--------------------+---------+--------------------+-------------+-------------+------+--------------------+-------+--------------------+----------------+--------------------+--------------------+--------------------+--------------------+--------------------+----+--------------------+\n",
      "|     19BBY|2014-12-09T13:50:...|2014-12-20T21:17:...|     blue|[https://swapi.de...|         male|        blond|   172|https://swapi.dev...|     77|      Luke Skywalker|            fair|                  []|[https://swapi.de...|https://swapi.dev...|[https://swapi.de...|2024-10-05 18:08:...|NULL|2024-10-05 18:08:...|\n",
      "|    112BBY|2014-12-10T15:10:...|2014-12-20T21:17:...|   yellow|[https://swapi.de...|          n/a|          n/a|   167|https://swapi.dev...|     75|               C-3PO|            gold|[https://swapi.de...|                  []|https://swapi.dev...|                  []|2024-10-05 18:08:...|NULL|2024-10-05 18:08:...|\n",
      "|     33BBY|2014-12-10T15:11:...|2014-12-20T21:17:...|      red|[https://swapi.de...|          n/a|          n/a|    96|https://swapi.dev...|     32|               R2-D2|     white, blue|[https://swapi.de...|                  []|https://swapi.dev...|                  []|2024-10-05 18:08:...|NULL|2024-10-05 18:08:...|\n",
      "|   41.9BBY|2014-12-10T15:18:...|2014-12-20T21:17:...|   yellow|[https://swapi.de...|         male|         none|   202|https://swapi.dev...|    136|         Darth Vader|           white|                  []|[https://swapi.de...|https://swapi.dev...|                  []|2024-10-05 18:08:...|NULL|2024-10-05 18:08:...|\n",
      "|     19BBY|2014-12-10T15:20:...|2014-12-20T21:17:...|    brown|[https://swapi.de...|       female|        brown|   150|https://swapi.dev...|     49|         Leia Organa|           light|                  []|                  []|https://swapi.dev...|[https://swapi.de...|2024-10-05 18:08:...|NULL|2024-10-05 18:08:...|\n",
      "|     52BBY|2014-12-10T15:52:...|2014-12-20T21:17:...|     blue|[https://swapi.de...|         male|  brown, grey|   178|https://swapi.dev...|    120|           Owen Lars|           light|                  []|                  []|https://swapi.dev...|                  []|2024-10-05 18:08:...|NULL|2024-10-05 18:08:...|\n",
      "|     47BBY|2014-12-10T15:53:...|2014-12-20T21:17:...|     blue|[https://swapi.de...|       female|        brown|   165|https://swapi.dev...|     75|  Beru Whitesun lars|           light|                  []|                  []|https://swapi.dev...|                  []|2024-10-05 18:08:...|NULL|2024-10-05 18:08:...|\n",
      "|   unknown|2014-12-10T15:57:...|2014-12-20T21:17:...|      red|[https://swapi.de...|          n/a|          n/a|    97|https://swapi.dev...|     32|               R5-D4|      white, red|[https://swapi.de...|                  []|https://swapi.dev...|                  []|2024-10-05 18:08:...|NULL|2024-10-05 18:08:...|\n",
      "|     24BBY|2014-12-10T15:59:...|2014-12-20T21:17:...|    brown|[https://swapi.de...|         male|        black|   183|https://swapi.dev...|     84|   Biggs Darklighter|           light|                  []|[https://swapi.de...|https://swapi.dev...|                  []|2024-10-05 18:08:...|NULL|2024-10-05 18:08:...|\n",
      "|     57BBY|2014-12-10T16:16:...|2014-12-20T21:17:...|blue-gray|[https://swapi.de...|         male|auburn, white|   182|https://swapi.dev...|     77|      Obi-Wan Kenobi|            fair|                  []|[https://swapi.de...|https://swapi.dev...|[https://swapi.de...|2024-10-05 18:08:...|NULL|2024-10-05 18:08:...|\n",
      "|   41.9BBY|2014-12-10T16:20:...|2014-12-20T21:17:...|     blue|[https://swapi.de...|         male|        blond|   188|https://swapi.dev...|     84|    Anakin Skywalker|            fair|                  []|[https://swapi.de...|https://swapi.dev...|[https://swapi.de...|2024-10-05 18:08:...|NULL|2024-10-05 18:08:...|\n",
      "|     64BBY|2014-12-10T16:26:...|2014-12-20T21:17:...|     blue|[https://swapi.de...|         male| auburn, grey|   180|https://swapi.dev...|unknown|      Wilhuff Tarkin|            fair|                  []|                  []|https://swapi.dev...|                  []|2024-10-05 18:08:...|NULL|2024-10-05 18:08:...|\n",
      "|    200BBY|2014-12-10T16:42:...|2014-12-20T21:17:...|     blue|[https://swapi.de...|         male|        brown|   228|https://swapi.dev...|    112|           Chewbacca|         unknown|[https://swapi.de...|[https://swapi.de...|https://swapi.dev...|[https://swapi.de...|2024-10-05 18:08:...|NULL|2024-10-05 18:08:...|\n",
      "|     29BBY|2014-12-10T16:49:...|2014-12-20T21:17:...|    brown|[https://swapi.de...|         male|        brown|   180|https://swapi.dev...|     80|            Han Solo|            fair|                  []|[https://swapi.de...|https://swapi.dev...|                  []|2024-10-05 18:08:...|NULL|2024-10-05 18:08:...|\n",
      "|     44BBY|2014-12-10T17:03:...|2014-12-20T21:17:...|    black|[https://swapi.de...|         male|          n/a|   173|https://swapi.dev...|     74|              Greedo|           green|[https://swapi.de...|                  []|https://swapi.dev...|                  []|2024-10-05 18:08:...|NULL|2024-10-05 18:08:...|\n",
      "|    600BBY|2014-12-10T17:11:...|2014-12-20T21:17:...|   orange|[https://swapi.de...|hermaphrodite|          n/a|   175|https://swapi.dev...|  1,358|Jabba Desilijic T...|green-tan, brown|[https://swapi.de...|                  []|https://swapi.dev...|                  []|2024-10-05 18:08:...|NULL|2024-10-05 18:08:...|\n",
      "|     21BBY|2014-12-12T11:08:...|2014-12-20T21:17:...|    hazel|[https://swapi.de...|         male|        brown|   170|https://swapi.dev...|     77|      Wedge Antilles|            fair|                  []|[https://swapi.de...|https://swapi.dev...|[https://swapi.de...|2024-10-05 18:08:...|NULL|2024-10-05 18:08:...|\n",
      "|   unknown|2014-12-12T11:16:...|2014-12-20T21:17:...|     blue|[https://swapi.de...|         male|        brown|   180|https://swapi.dev...|    110|    Jek Tono Porkins|            fair|                  []|[https://swapi.de...|https://swapi.dev...|                  []|2024-10-05 18:08:...|NULL|2024-10-05 18:08:...|\n",
      "|    896BBY|2014-12-15T12:26:...|2014-12-20T21:17:...|    brown|[https://swapi.de...|         male|        white|    66|https://swapi.dev...|     17|                Yoda|           green|[https://swapi.de...|                  []|https://swapi.dev...|                  []|2024-10-05 18:08:...|NULL|2024-10-05 18:08:...|\n",
      "|     82BBY|2014-12-15T12:48:...|2014-12-20T21:17:...|   yellow|[https://swapi.de...|         male|         grey|   170|https://swapi.dev...|     75|           Palpatine|            pale|                  []|                  []|https://swapi.dev...|                  []|2024-10-05 18:08:...|NULL|2024-10-05 18:08:...|\n",
      "+----------+--------------------+--------------------+---------+--------------------+-------------+-------------+------+--------------------+-------+--------------------+----------------+--------------------+--------------------+--------------------+--------------------+--------------------+----+--------------------+\n",
      "only showing top 20 rows\n",
      "\n"
     ]
    }
   ],
   "source": [
    "sdf = spark.sql(\"SELECT * FROM hive_metastore.silver.people\")\n",
    "print(f\"No. Rows: {sdf.count()}\")\n",
    "sdf.show()"
   ]
  },
  {
   "cell_type": "markdown",
   "metadata": {},
   "source": [
    "# 5 Merge"
   ]
  },
  {
   "cell_type": "code",
   "execution_count": 22,
   "metadata": {},
   "outputs": [],
   "source": [
    "class StarWarsSilver(silver.SilverMerge): \n",
    "    def transform(self, sdf: DataFrame, table: str) -> DataFrame:\n",
    "        return sdf.withColumn(\"id\", F.split(sdf[\"url\"], \"/\").getItem(5).cast(\"int\"))\n",
    "      \n",
    "    def get_delta_merge_builder(self, sdf: DataFrame, delta_table: DeltaTable) -> DeltaMergeBuilder:\n",
    "        merge_condition = \"target.url = source.url\" \n",
    "        builder = delta_table.alias(\"target\").merge(sdf.alias(\"source\"), merge_condition)\n",
    "        builder = builder.whenMatchedUpdateAll()\n",
    "        builder = builder.whenNotMatchedInsertAll()\n",
    "        return builder\n",
    "    \n",
    "silver_instance = StarWarsSilver(spark, **options)\n",
    "silver_instance.execute_one(\"people\")"
   ]
  },
  {
   "cell_type": "code",
   "execution_count": 23,
   "metadata": {},
   "outputs": [
    {
     "name": "stdout",
     "output_type": "stream",
     "text": [
      "No. Rows: 164\n",
      "+----------+--------------------+--------------------+---------+--------------------+------+-------------+------+--------------------+----+------------------+-----------+--------------------+--------------------+--------------------+--------------------+--------------------+---+--------------------+\n",
      "|birth_year|             created|              edited|eye_color|               films|gender|   hair_color|height|           homeworld|mass|              name| skin_color|             species|           starships|                 url|            vehicles|         LH_BronzeTS| id|         LH_SilverTS|\n",
      "+----------+--------------------+--------------------+---------+--------------------+------+-------------+------+--------------------+----+------------------+-----------+--------------------+--------------------+--------------------+--------------------+--------------------+---+--------------------+\n",
      "|     19BBY|2014-12-09T13:50:...|2014-12-20T21:17:...|     blue|[https://swapi.de...|  male|        blond|   172|https://swapi.dev...|  77|    Luke Skywalker|       fair|                  []|[https://swapi.de...|https://swapi.dev...|[https://swapi.de...|2024-10-05 18:08:...|  1|2024-10-05 18:12:...|\n",
      "|     19BBY|2014-12-09T13:50:...|2014-12-20T21:17:...|     blue|[https://swapi.de...|  male|        blond|   172|https://swapi.dev...|  77|    Luke Skywalker|       fair|                  []|[https://swapi.de...|https://swapi.dev...|[https://swapi.de...|2024-10-05 18:08:...|  1|2024-10-05 18:12:...|\n",
      "|    112BBY|2014-12-10T15:10:...|2014-12-20T21:17:...|   yellow|[https://swapi.de...|   n/a|          n/a|   167|https://swapi.dev...|  75|             C-3PO|       gold|[https://swapi.de...|                  []|https://swapi.dev...|                  []|2024-10-05 18:08:...|  2|2024-10-05 18:12:...|\n",
      "|    112BBY|2014-12-10T15:10:...|2014-12-20T21:17:...|   yellow|[https://swapi.de...|   n/a|          n/a|   167|https://swapi.dev...|  75|             C-3PO|       gold|[https://swapi.de...|                  []|https://swapi.dev...|                  []|2024-10-05 18:08:...|  2|2024-10-05 18:12:...|\n",
      "|     33BBY|2014-12-10T15:11:...|2014-12-20T21:17:...|      red|[https://swapi.de...|   n/a|          n/a|    96|https://swapi.dev...|  32|             R2-D2|white, blue|[https://swapi.de...|                  []|https://swapi.dev...|                  []|2024-10-05 18:08:...|  3|2024-10-05 18:12:...|\n",
      "|     33BBY|2014-12-10T15:11:...|2014-12-20T21:17:...|      red|[https://swapi.de...|   n/a|          n/a|    96|https://swapi.dev...|  32|             R2-D2|white, blue|[https://swapi.de...|                  []|https://swapi.dev...|                  []|2024-10-05 18:08:...|  3|2024-10-05 18:12:...|\n",
      "|   41.9BBY|2014-12-10T15:18:...|2014-12-20T21:17:...|   yellow|[https://swapi.de...|  male|         none|   202|https://swapi.dev...| 136|       Darth Vader|      white|                  []|[https://swapi.de...|https://swapi.dev...|                  []|2024-10-05 18:08:...|  4|2024-10-05 18:12:...|\n",
      "|   41.9BBY|2014-12-10T15:18:...|2014-12-20T21:17:...|   yellow|[https://swapi.de...|  male|         none|   202|https://swapi.dev...| 136|       Darth Vader|      white|                  []|[https://swapi.de...|https://swapi.dev...|                  []|2024-10-05 18:08:...|  4|2024-10-05 18:12:...|\n",
      "|     19BBY|2014-12-10T15:20:...|2014-12-20T21:17:...|    brown|[https://swapi.de...|female|        brown|   150|https://swapi.dev...|  49|       Leia Organa|      light|                  []|                  []|https://swapi.dev...|[https://swapi.de...|2024-10-05 18:08:...|  5|2024-10-05 18:12:...|\n",
      "|     19BBY|2014-12-10T15:20:...|2014-12-20T21:17:...|    brown|[https://swapi.de...|female|        brown|   150|https://swapi.dev...|  49|       Leia Organa|      light|                  []|                  []|https://swapi.dev...|[https://swapi.de...|2024-10-05 18:08:...|  5|2024-10-05 18:12:...|\n",
      "|     52BBY|2014-12-10T15:52:...|2014-12-20T21:17:...|     blue|[https://swapi.de...|  male|  brown, grey|   178|https://swapi.dev...| 120|         Owen Lars|      light|                  []|                  []|https://swapi.dev...|                  []|2024-10-05 18:08:...|  6|2024-10-05 18:12:...|\n",
      "|     52BBY|2014-12-10T15:52:...|2014-12-20T21:17:...|     blue|[https://swapi.de...|  male|  brown, grey|   178|https://swapi.dev...| 120|         Owen Lars|      light|                  []|                  []|https://swapi.dev...|                  []|2024-10-05 18:08:...|  6|2024-10-05 18:12:...|\n",
      "|     47BBY|2014-12-10T15:53:...|2014-12-20T21:17:...|     blue|[https://swapi.de...|female|        brown|   165|https://swapi.dev...|  75|Beru Whitesun lars|      light|                  []|                  []|https://swapi.dev...|                  []|2024-10-05 18:08:...|  7|2024-10-05 18:12:...|\n",
      "|     47BBY|2014-12-10T15:53:...|2014-12-20T21:17:...|     blue|[https://swapi.de...|female|        brown|   165|https://swapi.dev...|  75|Beru Whitesun lars|      light|                  []|                  []|https://swapi.dev...|                  []|2024-10-05 18:08:...|  7|2024-10-05 18:12:...|\n",
      "|   unknown|2014-12-10T15:57:...|2014-12-20T21:17:...|      red|[https://swapi.de...|   n/a|          n/a|    97|https://swapi.dev...|  32|             R5-D4| white, red|[https://swapi.de...|                  []|https://swapi.dev...|                  []|2024-10-05 18:08:...|  8|2024-10-05 18:12:...|\n",
      "|   unknown|2014-12-10T15:57:...|2014-12-20T21:17:...|      red|[https://swapi.de...|   n/a|          n/a|    97|https://swapi.dev...|  32|             R5-D4| white, red|[https://swapi.de...|                  []|https://swapi.dev...|                  []|2024-10-05 18:08:...|  8|2024-10-05 18:12:...|\n",
      "|     24BBY|2014-12-10T15:59:...|2014-12-20T21:17:...|    brown|[https://swapi.de...|  male|        black|   183|https://swapi.dev...|  84| Biggs Darklighter|      light|                  []|[https://swapi.de...|https://swapi.dev...|                  []|2024-10-05 18:08:...|  9|2024-10-05 18:12:...|\n",
      "|     24BBY|2014-12-10T15:59:...|2014-12-20T21:17:...|    brown|[https://swapi.de...|  male|        black|   183|https://swapi.dev...|  84| Biggs Darklighter|      light|                  []|[https://swapi.de...|https://swapi.dev...|                  []|2024-10-05 18:08:...|  9|2024-10-05 18:12:...|\n",
      "|     57BBY|2014-12-10T16:16:...|2014-12-20T21:17:...|blue-gray|[https://swapi.de...|  male|auburn, white|   182|https://swapi.dev...|  77|    Obi-Wan Kenobi|       fair|                  []|[https://swapi.de...|https://swapi.dev...|[https://swapi.de...|2024-10-05 18:08:...| 10|2024-10-05 18:12:...|\n",
      "|     57BBY|2014-12-10T16:16:...|2014-12-20T21:17:...|blue-gray|[https://swapi.de...|  male|auburn, white|   182|https://swapi.dev...|  77|    Obi-Wan Kenobi|       fair|                  []|[https://swapi.de...|https://swapi.dev...|[https://swapi.de...|2024-10-05 18:08:...| 10|2024-10-05 18:12:...|\n",
      "+----------+--------------------+--------------------+---------+--------------------+------+-------------+------+--------------------+----+------------------+-----------+--------------------+--------------------+--------------------+--------------------+--------------------+---+--------------------+\n",
      "only showing top 20 rows\n",
      "\n"
     ]
    }
   ],
   "source": [
    "sdf = spark.sql(\"SELECT * FROM hive_metastore.silver.people\")\n",
    "print(f\"No. Rows: {sdf.count()}\")\n",
    "sdf.show()"
   ]
  },
  {
   "cell_type": "markdown",
   "metadata": {},
   "source": [
    "# 6 Clean Up"
   ]
  },
  {
   "cell_type": "code",
   "execution_count": 24,
   "metadata": {},
   "outputs": [
    {
     "data": {
      "text/plain": [
       "DataFrame[]"
      ]
     },
     "execution_count": 24,
     "metadata": {},
     "output_type": "execute_result"
    }
   ],
   "source": [
    "spark.sql(f\"DROP SCHEMA IF EXISTS hive_metastore.bronze CASCADE\")\n",
    "spark.sql(f\"DROP SCHEMA IF EXISTS hive_metastore.silver CASCADE\")"
   ]
  }
 ],
 "metadata": {
  "kernelspec": {
   "display_name": "dbconnect_exec",
   "language": "python",
   "name": "python3"
  },
  "language_info": {
   "codemirror_mode": {
    "name": "ipython",
    "version": 3
   },
   "file_extension": ".py",
   "mimetype": "text/x-python",
   "name": "python",
   "nbconvert_exporter": "python",
   "pygments_lexer": "ipython3",
   "version": "3.11.10"
  }
 },
 "nbformat": 4,
 "nbformat_minor": 2
}
