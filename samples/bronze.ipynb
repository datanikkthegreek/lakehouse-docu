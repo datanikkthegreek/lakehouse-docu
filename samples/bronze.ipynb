{
 "cells": [
  {
   "cell_type": "code",
   "execution_count": 76,
   "metadata": {},
   "outputs": [],
   "source": [
    "import requests\n",
    "import math\n",
    "from lakehouse.utils.settings import spark\n",
    "from lakehouse import bronze\n",
    "from pyspark.sql import DataFrame, Row\n",
    "from pyspark.sql.datasource import DataSource, DataSourceReader, InputPartition\n",
    "from delta import DeltaTable\n",
    "from delta.tables import DeltaMergeBuilder"
   ]
  },
  {
   "cell_type": "markdown",
   "metadata": {},
   "source": [
    "# 1. Set Up and Data"
   ]
  },
  {
   "cell_type": "code",
   "execution_count": 77,
   "metadata": {},
   "outputs": [],
   "source": [
    "class SWAPIDataSource(DataSource):\n",
    "    \"\"\"\n",
    "    Implementing the SWAPI API as to https://swapi.dev/documentation\n",
    "\n",
    "    Name: `SWAPI`\n",
    "\n",
    "    Schema (depends on the called resource): \n",
    "\n",
    "        \"people\": 'birth_year string, created string, edited string, eye_color string, films array<string>, \n",
    "        gender string, hair_color string, height string, homeworld string, mass string, name string, skin_color string, \n",
    "        species array<string>, starships array<string>, url string, vehicles array<string>',\n",
    "\n",
    "        \"films\": 'characters array<string>, created string, director string, edited string, episode_id bigint, \n",
    "        opening_crawl string, planets array<string>, producer string, release_date string, species array<string>, \n",
    "        starships array<string>, title string, url string, vehicles array<string>',\n",
    "\n",
    "        \"starships\": 'MGLT string, cargo_capacity string, consumables string, cost_in_credits string, created string, \n",
    "        crew string, edited string, films array<string>, hyperdrive_rating string, length string, manufacturer string, \n",
    "        max_atmosphering_speed string, model string, name string, passengers string, pilots array<string>, starship_class string, url string',\n",
    "\n",
    "        \"vehicles\": 'cargo_capacity string, consumables string, cost_in_credits string, created string, crew string, \n",
    "        edited string, films array<string>, length string, manufacturer string, max_atmosphering_speed string, model string, \n",
    "        name string, passengers string, pilots array<string>, url string, vehicle_class string',\n",
    "\n",
    "        \"species\": 'average_height string, average_lifespan string, classification string, created string, designation string, \n",
    "        edited string, eye_colors string, films array<string>, hair_colors string, homeworld string, language string, name string, \n",
    "        people array<string>, skin_colors string, url string',\n",
    "\n",
    "        \"planets\": 'climate string, created string, diameter string, edited string, films array<string>, gravity string, name string, \n",
    "        orbital_period string, population string, residents array<string>, rotation_period string, surface_water string, terrain string, url string'\n",
    "\n",
    "    Examples\n",
    "    --------\n",
    "    Register the data source.\n",
    "\n",
    "    >>> from pyspark_datasources import SWAPIDataSource\n",
    "    >>> spark.dataSource.register(SWAPIDataSource)\n",
    "\n",
    "    Load data from the availble resources \"people\", \"films\", \"starships\", \"vehicles\", \"species\", \"planets\"\n",
    "\n",
    "    >>> spark.read.format(\"SWAPI\").load(\"planets\").show()\n",
    " \n",
    "    +---------+--------------------+--------+--------------------+--------------------+----------+--------+---+\n",
    "    |  climate|             created|diameter|              edited|               films|   gravity|    name|...|\n",
    "    +---------+--------------------+--------+--------------------+--------------------+----------+--------+---+\n",
    "    |     arid|2014-12-09T13:50:...|   10465|2014-12-20T20:58:...|[https://swapi.de...|1 standard|Tatooine|...|\n",
    "    |...      |...                 |...     |...                 |                 ...|...       |...     |...|\n",
    "    +---------+--------------------+--------+--------------------+--------------------+----------+--------+---+\n",
    "\n",
    "    \"\"\"\n",
    "\n",
    "    @classmethod\n",
    "    def name(self):\n",
    "        return \"SWAPI\"\n",
    "    \n",
    "    def schema(self):\n",
    "        if self.options[\"path\"] not in [\"people\", \"films\", \"starships\", \"vehicles\", \"species\", \"planets\"]:\n",
    "            raise Exception(f\"Assure that only values in ['people', 'films', 'starships', 'vehicles', 'species', 'planets'] are provided\")\n",
    "        \n",
    "        schemas = {\n",
    "            \"people\": 'birth_year string, created string, edited string, eye_color string, films array<string>, gender string, hair_color string, height string, homeworld string, mass string, name string, skin_color string, species array<string>, starships array<string>, url string, vehicles array<string>',\n",
    "\n",
    "            \"films\": 'characters array<string>, created string, director string, edited string, episode_id bigint, opening_crawl string, planets array<string>, producer string, release_date string, species array<string>, starships array<string>, title string, url string, vehicles array<string>',\n",
    "\n",
    "            \"starships\": 'MGLT string, cargo_capacity string, consumables string, cost_in_credits string, created string, crew string, edited string, films array<string>, hyperdrive_rating string, length string, manufacturer string, max_atmosphering_speed string, model string, name string, passengers string, pilots array<string>, starship_class string, url string',\n",
    "\n",
    "            \"vehicles\": 'cargo_capacity string, consumables string, cost_in_credits string, created string, crew string, edited string, films array<string>, length string, manufacturer string, max_atmosphering_speed string, model string, name string, passengers string, pilots array<string>, url string, vehicle_class string',\n",
    "\n",
    "            \"species\": 'average_height string, average_lifespan string, classification string, created string, designation string, edited string, eye_colors string, films array<string>, hair_colors string, homeworld string, language string, name string, people array<string>, skin_colors string, url string',\n",
    "\n",
    "            \"planets\": 'climate string, created string, diameter string, edited string, films array<string>, gravity string, name string, orbital_period string, population string, residents array<string>, rotation_period string, surface_water string, terrain string, url string'\n",
    "        }\n",
    "\n",
    "        return schemas[self.options[\"path\"]]\n",
    "\n",
    "    def reader(self, schema):\n",
    "        return SWAPIDataSourceReader(self.options)\n",
    "\n",
    "\n",
    "class SWAPIDataSourceReader(DataSourceReader):\n",
    "    def __init__(self, options):\n",
    "        self.resource = options[\"path\"]\n",
    "\n",
    "    def partitions(self):\n",
    "        query = f\"https://swapi.dev/api/{self.resource}/\"\n",
    "        page_size = 10\n",
    "        total_elements = int(requests.get(query).json()[\"count\"])\n",
    "        no_pages = math.ceil(total_elements / page_size)\n",
    "        return [InputPartition(i) for i in range(1, no_pages + 1)]\n",
    "\n",
    "    def read(self, partition):\n",
    "        query = f\"https://swapi.dev/api/{self.resource}/?page={str(partition.value)}\"\n",
    "        req = requests.get(query)\n",
    "        data = req.json()[\"results\"]\n",
    "        for d in data:\n",
    "            yield Row(**d)"
   ]
  },
  {
   "cell_type": "code",
   "execution_count": 78,
   "metadata": {},
   "outputs": [
    {
     "name": "stdout",
     "output_type": "stream",
     "text": [
      "+----------+--------------------+--------------------+---------+--------------------+-------------+-------------+------+--------------------+-------+--------------------+----------------+--------------------+--------------------+--------------------+--------------------+\n",
      "|birth_year|             created|              edited|eye_color|               films|       gender|   hair_color|height|           homeworld|   mass|                name|      skin_color|             species|           starships|                 url|            vehicles|\n",
      "+----------+--------------------+--------------------+---------+--------------------+-------------+-------------+------+--------------------+-------+--------------------+----------------+--------------------+--------------------+--------------------+--------------------+\n",
      "|     19BBY|2014-12-09T13:50:...|2014-12-20T21:17:...|     blue|[https://swapi.de...|         male|        blond|   172|https://swapi.dev...|     77|      Luke Skywalker|            fair|                  []|[https://swapi.de...|https://swapi.dev...|[https://swapi.de...|\n",
      "|    112BBY|2014-12-10T15:10:...|2014-12-20T21:17:...|   yellow|[https://swapi.de...|          n/a|          n/a|   167|https://swapi.dev...|     75|               C-3PO|            gold|[https://swapi.de...|                  []|https://swapi.dev...|                  []|\n",
      "|     33BBY|2014-12-10T15:11:...|2014-12-20T21:17:...|      red|[https://swapi.de...|          n/a|          n/a|    96|https://swapi.dev...|     32|               R2-D2|     white, blue|[https://swapi.de...|                  []|https://swapi.dev...|                  []|\n",
      "|   41.9BBY|2014-12-10T15:18:...|2014-12-20T21:17:...|   yellow|[https://swapi.de...|         male|         none|   202|https://swapi.dev...|    136|         Darth Vader|           white|                  []|[https://swapi.de...|https://swapi.dev...|                  []|\n",
      "|     19BBY|2014-12-10T15:20:...|2014-12-20T21:17:...|    brown|[https://swapi.de...|       female|        brown|   150|https://swapi.dev...|     49|         Leia Organa|           light|                  []|                  []|https://swapi.dev...|[https://swapi.de...|\n",
      "|     52BBY|2014-12-10T15:52:...|2014-12-20T21:17:...|     blue|[https://swapi.de...|         male|  brown, grey|   178|https://swapi.dev...|    120|           Owen Lars|           light|                  []|                  []|https://swapi.dev...|                  []|\n",
      "|     47BBY|2014-12-10T15:53:...|2014-12-20T21:17:...|     blue|[https://swapi.de...|       female|        brown|   165|https://swapi.dev...|     75|  Beru Whitesun lars|           light|                  []|                  []|https://swapi.dev...|                  []|\n",
      "|   unknown|2014-12-10T15:57:...|2014-12-20T21:17:...|      red|[https://swapi.de...|          n/a|          n/a|    97|https://swapi.dev...|     32|               R5-D4|      white, red|[https://swapi.de...|                  []|https://swapi.dev...|                  []|\n",
      "|     24BBY|2014-12-10T15:59:...|2014-12-20T21:17:...|    brown|[https://swapi.de...|         male|        black|   183|https://swapi.dev...|     84|   Biggs Darklighter|           light|                  []|[https://swapi.de...|https://swapi.dev...|                  []|\n",
      "|     57BBY|2014-12-10T16:16:...|2014-12-20T21:17:...|blue-gray|[https://swapi.de...|         male|auburn, white|   182|https://swapi.dev...|     77|      Obi-Wan Kenobi|            fair|                  []|[https://swapi.de...|https://swapi.dev...|[https://swapi.de...|\n",
      "|   41.9BBY|2014-12-10T16:20:...|2014-12-20T21:17:...|     blue|[https://swapi.de...|         male|        blond|   188|https://swapi.dev...|     84|    Anakin Skywalker|            fair|                  []|[https://swapi.de...|https://swapi.dev...|[https://swapi.de...|\n",
      "|     64BBY|2014-12-10T16:26:...|2014-12-20T21:17:...|     blue|[https://swapi.de...|         male| auburn, grey|   180|https://swapi.dev...|unknown|      Wilhuff Tarkin|            fair|                  []|                  []|https://swapi.dev...|                  []|\n",
      "|    200BBY|2014-12-10T16:42:...|2014-12-20T21:17:...|     blue|[https://swapi.de...|         male|        brown|   228|https://swapi.dev...|    112|           Chewbacca|         unknown|[https://swapi.de...|[https://swapi.de...|https://swapi.dev...|[https://swapi.de...|\n",
      "|     29BBY|2014-12-10T16:49:...|2014-12-20T21:17:...|    brown|[https://swapi.de...|         male|        brown|   180|https://swapi.dev...|     80|            Han Solo|            fair|                  []|[https://swapi.de...|https://swapi.dev...|                  []|\n",
      "|     44BBY|2014-12-10T17:03:...|2014-12-20T21:17:...|    black|[https://swapi.de...|         male|          n/a|   173|https://swapi.dev...|     74|              Greedo|           green|[https://swapi.de...|                  []|https://swapi.dev...|                  []|\n",
      "|    600BBY|2014-12-10T17:11:...|2014-12-20T21:17:...|   orange|[https://swapi.de...|hermaphrodite|          n/a|   175|https://swapi.dev...|  1,358|Jabba Desilijic T...|green-tan, brown|[https://swapi.de...|                  []|https://swapi.dev...|                  []|\n",
      "|     21BBY|2014-12-12T11:08:...|2014-12-20T21:17:...|    hazel|[https://swapi.de...|         male|        brown|   170|https://swapi.dev...|     77|      Wedge Antilles|            fair|                  []|[https://swapi.de...|https://swapi.dev...|[https://swapi.de...|\n",
      "|   unknown|2014-12-12T11:16:...|2014-12-20T21:17:...|     blue|[https://swapi.de...|         male|        brown|   180|https://swapi.dev...|    110|    Jek Tono Porkins|            fair|                  []|[https://swapi.de...|https://swapi.dev...|                  []|\n",
      "|    896BBY|2014-12-15T12:26:...|2014-12-20T21:17:...|    brown|[https://swapi.de...|         male|        white|    66|https://swapi.dev...|     17|                Yoda|           green|[https://swapi.de...|                  []|https://swapi.dev...|                  []|\n",
      "|     82BBY|2014-12-15T12:48:...|2014-12-20T21:17:...|   yellow|[https://swapi.de...|         male|         grey|   170|https://swapi.dev...|     75|           Palpatine|            pale|                  []|                  []|https://swapi.dev...|                  []|\n",
      "+----------+--------------------+--------------------+---------+--------------------+-------------+-------------+------+--------------------+-------+--------------------+----------------+--------------------+--------------------+--------------------+--------------------+\n",
      "only showing top 20 rows\n",
      "\n"
     ]
    }
   ],
   "source": [
    "spark.dataSource.register(SWAPIDataSource)\n",
    "spark.read.format(\"SWAPI\").load(\"people\").show()"
   ]
  },
  {
   "cell_type": "code",
   "execution_count": 79,
   "metadata": {},
   "outputs": [
    {
     "data": {
      "text/plain": [
       "DataFrame[]"
      ]
     },
     "execution_count": 79,
     "metadata": {},
     "output_type": "execute_result"
    }
   ],
   "source": [
    "spark.sql(f\"CREATE SCHEMA IF NOT EXISTS hive_metastore.bronze\")"
   ]
  },
  {
   "cell_type": "code",
   "execution_count": 80,
   "metadata": {},
   "outputs": [],
   "source": [
    "options = {\n",
    "    \"catalog\": \"hive_metastore\",\n",
    "    \"target_schema\": \"bronze\" \n",
    "}"
   ]
  },
  {
   "cell_type": "markdown",
   "metadata": {},
   "source": [
    "# 2 Overwrite with execute_one and execute_all"
   ]
  },
  {
   "cell_type": "code",
   "execution_count": 81,
   "metadata": {},
   "outputs": [],
   "source": [
    "class StarWarsBronze(bronze.BronzeOverwrite):\n",
    "    def load(self, table):\n",
    "        spark.dataSource.register(SWAPIDataSource)\n",
    "        return spark.read.format(\"SWAPI\").load(table)\n",
    "    \n",
    "bronze_instance = StarWarsBronze(spark, **options)\n",
    "bronze_instance.execute_one(\"people\")"
   ]
  },
  {
   "cell_type": "code",
   "execution_count": 82,
   "metadata": {},
   "outputs": [],
   "source": [
    "class StarWarsBronze(bronze.BronzeOverwrite):\n",
    "    def load(self, table):\n",
    "        spark.dataSource.register(SWAPIDataSource)\n",
    "        return spark.read.format(\"SWAPI\").load(table)\n",
    "    \n",
    "bronze_instance = StarWarsBronze(spark, **options)\n",
    "bronze_instance.execute_all([\"people\", \"planets\"])"
   ]
  },
  {
   "cell_type": "code",
   "execution_count": 67,
   "metadata": {},
   "outputs": [
    {
     "name": "stdout",
     "output_type": "stream",
     "text": [
      "No. Rows: 82\n",
      "+----------+--------------------+--------------------+---------+--------------------+-------------+-------------+------+--------------------+-------+--------------------+----------------+--------------------+--------------------+--------------------+--------------------+--------------------+\n",
      "|birth_year|             created|              edited|eye_color|               films|       gender|   hair_color|height|           homeworld|   mass|                name|      skin_color|             species|           starships|                 url|            vehicles|         LH_BronzeTS|\n",
      "+----------+--------------------+--------------------+---------+--------------------+-------------+-------------+------+--------------------+-------+--------------------+----------------+--------------------+--------------------+--------------------+--------------------+--------------------+\n",
      "|     19BBY|2014-12-09T13:50:...|2014-12-20T21:17:...|     blue|[https://swapi.de...|         male|        blond|   172|https://swapi.dev...|     77|      Luke Skywalker|            fair|                  []|[https://swapi.de...|https://swapi.dev...|[https://swapi.de...|2024-10-05 16:52:...|\n",
      "|    112BBY|2014-12-10T15:10:...|2014-12-20T21:17:...|   yellow|[https://swapi.de...|          n/a|          n/a|   167|https://swapi.dev...|     75|               C-3PO|            gold|[https://swapi.de...|                  []|https://swapi.dev...|                  []|2024-10-05 16:52:...|\n",
      "|     33BBY|2014-12-10T15:11:...|2014-12-20T21:17:...|      red|[https://swapi.de...|          n/a|          n/a|    96|https://swapi.dev...|     32|               R2-D2|     white, blue|[https://swapi.de...|                  []|https://swapi.dev...|                  []|2024-10-05 16:52:...|\n",
      "|   41.9BBY|2014-12-10T15:18:...|2014-12-20T21:17:...|   yellow|[https://swapi.de...|         male|         none|   202|https://swapi.dev...|    136|         Darth Vader|           white|                  []|[https://swapi.de...|https://swapi.dev...|                  []|2024-10-05 16:52:...|\n",
      "|     19BBY|2014-12-10T15:20:...|2014-12-20T21:17:...|    brown|[https://swapi.de...|       female|        brown|   150|https://swapi.dev...|     49|         Leia Organa|           light|                  []|                  []|https://swapi.dev...|[https://swapi.de...|2024-10-05 16:52:...|\n",
      "|     52BBY|2014-12-10T15:52:...|2014-12-20T21:17:...|     blue|[https://swapi.de...|         male|  brown, grey|   178|https://swapi.dev...|    120|           Owen Lars|           light|                  []|                  []|https://swapi.dev...|                  []|2024-10-05 16:52:...|\n",
      "|     47BBY|2014-12-10T15:53:...|2014-12-20T21:17:...|     blue|[https://swapi.de...|       female|        brown|   165|https://swapi.dev...|     75|  Beru Whitesun lars|           light|                  []|                  []|https://swapi.dev...|                  []|2024-10-05 16:52:...|\n",
      "|   unknown|2014-12-10T15:57:...|2014-12-20T21:17:...|      red|[https://swapi.de...|          n/a|          n/a|    97|https://swapi.dev...|     32|               R5-D4|      white, red|[https://swapi.de...|                  []|https://swapi.dev...|                  []|2024-10-05 16:52:...|\n",
      "|     24BBY|2014-12-10T15:59:...|2014-12-20T21:17:...|    brown|[https://swapi.de...|         male|        black|   183|https://swapi.dev...|     84|   Biggs Darklighter|           light|                  []|[https://swapi.de...|https://swapi.dev...|                  []|2024-10-05 16:52:...|\n",
      "|     57BBY|2014-12-10T16:16:...|2014-12-20T21:17:...|blue-gray|[https://swapi.de...|         male|auburn, white|   182|https://swapi.dev...|     77|      Obi-Wan Kenobi|            fair|                  []|[https://swapi.de...|https://swapi.dev...|[https://swapi.de...|2024-10-05 16:52:...|\n",
      "|   41.9BBY|2014-12-10T16:20:...|2014-12-20T21:17:...|     blue|[https://swapi.de...|         male|        blond|   188|https://swapi.dev...|     84|    Anakin Skywalker|            fair|                  []|[https://swapi.de...|https://swapi.dev...|[https://swapi.de...|2024-10-05 16:52:...|\n",
      "|     64BBY|2014-12-10T16:26:...|2014-12-20T21:17:...|     blue|[https://swapi.de...|         male| auburn, grey|   180|https://swapi.dev...|unknown|      Wilhuff Tarkin|            fair|                  []|                  []|https://swapi.dev...|                  []|2024-10-05 16:52:...|\n",
      "|    200BBY|2014-12-10T16:42:...|2014-12-20T21:17:...|     blue|[https://swapi.de...|         male|        brown|   228|https://swapi.dev...|    112|           Chewbacca|         unknown|[https://swapi.de...|[https://swapi.de...|https://swapi.dev...|[https://swapi.de...|2024-10-05 16:52:...|\n",
      "|     29BBY|2014-12-10T16:49:...|2014-12-20T21:17:...|    brown|[https://swapi.de...|         male|        brown|   180|https://swapi.dev...|     80|            Han Solo|            fair|                  []|[https://swapi.de...|https://swapi.dev...|                  []|2024-10-05 16:52:...|\n",
      "|     44BBY|2014-12-10T17:03:...|2014-12-20T21:17:...|    black|[https://swapi.de...|         male|          n/a|   173|https://swapi.dev...|     74|              Greedo|           green|[https://swapi.de...|                  []|https://swapi.dev...|                  []|2024-10-05 16:52:...|\n",
      "|    600BBY|2014-12-10T17:11:...|2014-12-20T21:17:...|   orange|[https://swapi.de...|hermaphrodite|          n/a|   175|https://swapi.dev...|  1,358|Jabba Desilijic T...|green-tan, brown|[https://swapi.de...|                  []|https://swapi.dev...|                  []|2024-10-05 16:52:...|\n",
      "|     21BBY|2014-12-12T11:08:...|2014-12-20T21:17:...|    hazel|[https://swapi.de...|         male|        brown|   170|https://swapi.dev...|     77|      Wedge Antilles|            fair|                  []|[https://swapi.de...|https://swapi.dev...|[https://swapi.de...|2024-10-05 16:52:...|\n",
      "|   unknown|2014-12-12T11:16:...|2014-12-20T21:17:...|     blue|[https://swapi.de...|         male|        brown|   180|https://swapi.dev...|    110|    Jek Tono Porkins|            fair|                  []|[https://swapi.de...|https://swapi.dev...|                  []|2024-10-05 16:52:...|\n",
      "|    896BBY|2014-12-15T12:26:...|2014-12-20T21:17:...|    brown|[https://swapi.de...|         male|        white|    66|https://swapi.dev...|     17|                Yoda|           green|[https://swapi.de...|                  []|https://swapi.dev...|                  []|2024-10-05 16:52:...|\n",
      "|     82BBY|2014-12-15T12:48:...|2014-12-20T21:17:...|   yellow|[https://swapi.de...|         male|         grey|   170|https://swapi.dev...|     75|           Palpatine|            pale|                  []|                  []|https://swapi.dev...|                  []|2024-10-05 16:52:...|\n",
      "+----------+--------------------+--------------------+---------+--------------------+-------------+-------------+------+--------------------+-------+--------------------+----------------+--------------------+--------------------+--------------------+--------------------+--------------------+\n",
      "only showing top 20 rows\n",
      "\n"
     ]
    }
   ],
   "source": [
    "sdf = spark.sql(\"SELECT * FROM hive_metastore.bronze.people\")\n",
    "print(f\"No. Rows: {sdf.count()}\")\n",
    "sdf.show()"
   ]
  },
  {
   "cell_type": "code",
   "execution_count": 47,
   "metadata": {},
   "outputs": [
    {
     "name": "stdout",
     "output_type": "stream",
     "text": [
      "No. Rows: 60\n",
      "+--------------------+--------------------+--------+--------------------+--------------------+--------------------+--------------+--------------+-------------+--------------------+---------------+-------------+--------------------+--------------------+--------------------+\n",
      "|             climate|             created|diameter|              edited|               films|             gravity|          name|orbital_period|   population|           residents|rotation_period|surface_water|             terrain|                 url|         LH_BronzeTS|\n",
      "+--------------------+--------------------+--------+--------------------+--------------------+--------------------+--------------+--------------+-------------+--------------------+---------------+-------------+--------------------+--------------------+--------------------+\n",
      "|                arid|2014-12-09T13:50:...|   10465|2014-12-20T20:58:...|[https://swapi.de...|          1 standard|      Tatooine|           304|       200000|[https://swapi.de...|             23|            1|              desert|https://swapi.dev...|2024-10-05 16:43:...|\n",
      "|           temperate|2014-12-10T11:35:...|   12500|2014-12-20T20:58:...|[https://swapi.de...|          1 standard|      Alderaan|           364|   2000000000|[https://swapi.de...|             24|           40|grasslands, mount...|https://swapi.dev...|2024-10-05 16:43:...|\n",
      "| temperate, tropical|2014-12-10T11:37:...|   10200|2014-12-20T20:58:...|[https://swapi.de...|          1 standard|      Yavin IV|          4818|         1000|                  []|             24|            8| jungle, rainforests|https://swapi.dev...|2024-10-05 16:43:...|\n",
      "|              frozen|2014-12-10T11:39:...|    7200|2014-12-20T20:58:...|[https://swapi.de...|        1.1 standard|          Hoth|           549|      unknown|                  []|             23|          100|tundra, ice caves...|https://swapi.dev...|2024-10-05 16:43:...|\n",
      "|               murky|2014-12-10T11:42:...|    8900|2014-12-20T20:58:...|[https://swapi.de...|                 N/A|       Dagobah|           341|      unknown|                  []|             23|            8|      swamp, jungles|https://swapi.dev...|2024-10-05 16:43:...|\n",
      "|           temperate|2014-12-10T11:43:...|  118000|2014-12-20T20:58:...|[https://swapi.de...|1.5 (surface), 1 ...|        Bespin|          5110|      6000000|[https://swapi.de...|             12|            0|           gas giant|https://swapi.dev...|2024-10-05 16:43:...|\n",
      "|           temperate|2014-12-10T11:50:...|    4900|2014-12-20T20:58:...|[https://swapi.de...|       0.85 standard|         Endor|           402|     30000000|[https://swapi.de...|             18|            8|forests, mountain...|https://swapi.dev...|2024-10-05 16:43:...|\n",
      "|           temperate|2014-12-10T11:52:...|   12120|2014-12-20T20:58:...|[https://swapi.de...|          1 standard|         Naboo|           312|   4500000000|[https://swapi.de...|             26|           12|grassy hills, swa...|https://swapi.dev...|2024-10-05 16:43:...|\n",
      "|           temperate|2014-12-10T11:54:...|   12240|2014-12-20T20:58:...|[https://swapi.de...|          1 standard|     Coruscant|           368|1000000000000|[https://swapi.de...|             24|      unknown|cityscape, mountains|https://swapi.dev...|2024-10-05 16:43:...|\n",
      "|           temperate|2014-12-10T12:45:...|   19720|2014-12-20T20:58:...|[https://swapi.de...|          1 standard|        Kamino|           463|   1000000000|[https://swapi.de...|             27|          100|               ocean|https://swapi.dev...|2024-10-05 16:43:...|\n",
      "|     temperate, arid|2014-12-10T12:47:...|   11370|2014-12-20T20:58:...|[https://swapi.de...|        0.9 standard|      Geonosis|           256| 100000000000|[https://swapi.de...|             30|            5|rock, desert, mou...|https://swapi.dev...|2024-10-05 16:43:...|\n",
      "|temperate, arid, ...|2014-12-10T12:49:...|   12900|2014-12-20T20:58:...|[https://swapi.de...|          1 standard|        Utapau|           351|     95000000|[https://swapi.de...|             27|          0.9|scrublands, savan...|https://swapi.dev...|2024-10-05 16:43:...|\n",
      "|                 hot|2014-12-10T12:50:...|    4200|2014-12-20T20:58:...|[https://swapi.de...|          1 standard|      Mustafar|           412|        20000|                  []|             36|            0|volcanoes, lava r...|https://swapi.dev...|2024-10-05 16:43:...|\n",
      "|            tropical|2014-12-10T13:32:...|   12765|2014-12-20T20:58:...|[https://swapi.de...|          1 standard|      Kashyyyk|           381|     45000000|[https://swapi.de...|             26|           60|jungle, forests, ...|https://swapi.dev...|2024-10-05 16:43:...|\n",
      "|artificial temper...|2014-12-10T13:33:...|       0|2014-12-20T20:58:...|[https://swapi.de...|       0.56 standard|   Polis Massa|           590|      1000000|                  []|             24|            0|    airless asteroid|https://swapi.dev...|2024-10-05 16:43:...|\n",
      "|              frigid|2014-12-10T13:43:...|   10088|2014-12-20T20:58:...|[https://swapi.de...|          1 standard|       Mygeeto|           167|     19000000|                  []|             12|      unknown|glaciers, mountai...|https://swapi.dev...|2024-10-05 16:43:...|\n",
      "|          hot, humid|2014-12-10T13:44:...|    9100|2014-12-20T20:58:...|[https://swapi.de...|       0.75 standard|       Felucia|           231|      8500000|                  []|             34|      unknown|      fungus forests|https://swapi.dev...|2024-10-05 16:43:...|\n",
      "|    temperate, moist|2014-12-10T13:46:...|       0|2014-12-20T20:58:...|[https://swapi.de...|          1 standard|Cato Neimoidia|           278|     10000000|[https://swapi.de...|             25|      unknown|mountains, fields...|https://swapi.dev...|2024-10-05 16:43:...|\n",
      "|                 hot|2014-12-10T13:47:...|   14920|2014-12-20T20:58:...|[https://swapi.de...|             unknown|     Saleucami|           392|   1400000000|                  []|             26|      unknown|caves, desert, mo...|https://swapi.dev...|2024-10-05 16:43:...|\n",
      "|           temperate|2014-12-10T16:16:...|       0|2014-12-20T20:58:...|                  []|          1 standard|       Stewjon|       unknown|      unknown|[https://swapi.de...|        unknown|      unknown|               grass|https://swapi.dev...|2024-10-05 16:43:...|\n",
      "+--------------------+--------------------+--------+--------------------+--------------------+--------------------+--------------+--------------+-------------+--------------------+---------------+-------------+--------------------+--------------------+--------------------+\n",
      "only showing top 20 rows\n",
      "\n"
     ]
    }
   ],
   "source": [
    "sdf = spark.sql(\"SELECT * FROM hive_metastore.bronze.planets\")\n",
    "print(f\"No. Rows: {sdf.count()}\")\n",
    "sdf.show()"
   ]
  },
  {
   "cell_type": "markdown",
   "metadata": {},
   "source": [
    "# 3 Replace Where"
   ]
  },
  {
   "cell_type": "code",
   "execution_count": 68,
   "metadata": {},
   "outputs": [],
   "source": [
    "class StarWarsBronze(bronze.BronzeReplaceWhere):\n",
    "    def load(self, table):\n",
    "        spark.dataSource.register(SWAPIDataSource)\n",
    "        sdf = spark.read.format(\"SWAPI\").load(table)\n",
    "        return sdf.where(\"edited == '2014-12-20T21:17:50.403000Z'\")\n",
    "    \n",
    "    def get_replace_condition(self, sdf: DataFrame, table: str) -> str:\n",
    "        return \"edited == '2014-12-20T21:17:50.403000Z'\"\n",
    "    \n",
    "bronze_instance = StarWarsBronze(spark, **options)\n",
    "bronze_instance.execute_one(\"people\")"
   ]
  },
  {
   "cell_type": "code",
   "execution_count": 69,
   "metadata": {},
   "outputs": [
    {
     "name": "stdout",
     "output_type": "stream",
     "text": [
      "No. Rows: 82\n",
      "+----------+--------------------+--------------------+---------+--------------------+-------------+-------------+------+--------------------+-------+--------------------+----------------+--------------------+--------------------+--------------------+--------------------+--------------------+\n",
      "|birth_year|             created|              edited|eye_color|               films|       gender|   hair_color|height|           homeworld|   mass|                name|      skin_color|             species|           starships|                 url|            vehicles|         LH_BronzeTS|\n",
      "+----------+--------------------+--------------------+---------+--------------------+-------------+-------------+------+--------------------+-------+--------------------+----------------+--------------------+--------------------+--------------------+--------------------+--------------------+\n",
      "|     19BBY|2014-12-09T13:50:...|2014-12-20T21:17:...|     blue|[https://swapi.de...|         male|        blond|   172|https://swapi.dev...|     77|      Luke Skywalker|            fair|                  []|[https://swapi.de...|https://swapi.dev...|[https://swapi.de...|2024-10-05 16:52:...|\n",
      "|    112BBY|2014-12-10T15:10:...|2014-12-20T21:17:...|   yellow|[https://swapi.de...|          n/a|          n/a|   167|https://swapi.dev...|     75|               C-3PO|            gold|[https://swapi.de...|                  []|https://swapi.dev...|                  []|2024-10-05 16:52:...|\n",
      "|     33BBY|2014-12-10T15:11:...|2014-12-20T21:17:...|      red|[https://swapi.de...|          n/a|          n/a|    96|https://swapi.dev...|     32|               R2-D2|     white, blue|[https://swapi.de...|                  []|https://swapi.dev...|                  []|2024-10-05 16:52:...|\n",
      "|   41.9BBY|2014-12-10T15:18:...|2014-12-20T21:17:...|   yellow|[https://swapi.de...|         male|         none|   202|https://swapi.dev...|    136|         Darth Vader|           white|                  []|[https://swapi.de...|https://swapi.dev...|                  []|2024-10-05 16:52:...|\n",
      "|     19BBY|2014-12-10T15:20:...|2014-12-20T21:17:...|    brown|[https://swapi.de...|       female|        brown|   150|https://swapi.dev...|     49|         Leia Organa|           light|                  []|                  []|https://swapi.dev...|[https://swapi.de...|2024-10-05 16:52:...|\n",
      "|     52BBY|2014-12-10T15:52:...|2014-12-20T21:17:...|     blue|[https://swapi.de...|         male|  brown, grey|   178|https://swapi.dev...|    120|           Owen Lars|           light|                  []|                  []|https://swapi.dev...|                  []|2024-10-05 16:52:...|\n",
      "|     47BBY|2014-12-10T15:53:...|2014-12-20T21:17:...|     blue|[https://swapi.de...|       female|        brown|   165|https://swapi.dev...|     75|  Beru Whitesun lars|           light|                  []|                  []|https://swapi.dev...|                  []|2024-10-05 16:52:...|\n",
      "|   unknown|2014-12-10T15:57:...|2014-12-20T21:17:...|      red|[https://swapi.de...|          n/a|          n/a|    97|https://swapi.dev...|     32|               R5-D4|      white, red|[https://swapi.de...|                  []|https://swapi.dev...|                  []|2024-10-05 16:52:...|\n",
      "|     24BBY|2014-12-10T15:59:...|2014-12-20T21:17:...|    brown|[https://swapi.de...|         male|        black|   183|https://swapi.dev...|     84|   Biggs Darklighter|           light|                  []|[https://swapi.de...|https://swapi.dev...|                  []|2024-10-05 16:52:...|\n",
      "|     57BBY|2014-12-10T16:16:...|2014-12-20T21:17:...|blue-gray|[https://swapi.de...|         male|auburn, white|   182|https://swapi.dev...|     77|      Obi-Wan Kenobi|            fair|                  []|[https://swapi.de...|https://swapi.dev...|[https://swapi.de...|2024-10-05 16:52:...|\n",
      "|   41.9BBY|2014-12-10T16:20:...|2014-12-20T21:17:...|     blue|[https://swapi.de...|         male|        blond|   188|https://swapi.dev...|     84|    Anakin Skywalker|            fair|                  []|[https://swapi.de...|https://swapi.dev...|[https://swapi.de...|2024-10-05 16:52:...|\n",
      "|     64BBY|2014-12-10T16:26:...|2014-12-20T21:17:...|     blue|[https://swapi.de...|         male| auburn, grey|   180|https://swapi.dev...|unknown|      Wilhuff Tarkin|            fair|                  []|                  []|https://swapi.dev...|                  []|2024-10-05 16:52:...|\n",
      "|    200BBY|2014-12-10T16:42:...|2014-12-20T21:17:...|     blue|[https://swapi.de...|         male|        brown|   228|https://swapi.dev...|    112|           Chewbacca|         unknown|[https://swapi.de...|[https://swapi.de...|https://swapi.dev...|[https://swapi.de...|2024-10-05 16:52:...|\n",
      "|     29BBY|2014-12-10T16:49:...|2014-12-20T21:17:...|    brown|[https://swapi.de...|         male|        brown|   180|https://swapi.dev...|     80|            Han Solo|            fair|                  []|[https://swapi.de...|https://swapi.dev...|                  []|2024-10-05 16:52:...|\n",
      "|     44BBY|2014-12-10T17:03:...|2014-12-20T21:17:...|    black|[https://swapi.de...|         male|          n/a|   173|https://swapi.dev...|     74|              Greedo|           green|[https://swapi.de...|                  []|https://swapi.dev...|                  []|2024-10-05 16:52:...|\n",
      "|    600BBY|2014-12-10T17:11:...|2014-12-20T21:17:...|   orange|[https://swapi.de...|hermaphrodite|          n/a|   175|https://swapi.dev...|  1,358|Jabba Desilijic T...|green-tan, brown|[https://swapi.de...|                  []|https://swapi.dev...|                  []|2024-10-05 16:52:...|\n",
      "|     21BBY|2014-12-12T11:08:...|2014-12-20T21:17:...|    hazel|[https://swapi.de...|         male|        brown|   170|https://swapi.dev...|     77|      Wedge Antilles|            fair|                  []|[https://swapi.de...|https://swapi.dev...|[https://swapi.de...|2024-10-05 16:52:...|\n",
      "|   unknown|2014-12-12T11:16:...|2014-12-20T21:17:...|     blue|[https://swapi.de...|         male|        brown|   180|https://swapi.dev...|    110|    Jek Tono Porkins|            fair|                  []|[https://swapi.de...|https://swapi.dev...|                  []|2024-10-05 16:52:...|\n",
      "|    896BBY|2014-12-15T12:26:...|2014-12-20T21:17:...|    brown|[https://swapi.de...|         male|        white|    66|https://swapi.dev...|     17|                Yoda|           green|[https://swapi.de...|                  []|https://swapi.dev...|                  []|2024-10-05 16:52:...|\n",
      "|     82BBY|2014-12-15T12:48:...|2014-12-20T21:17:...|   yellow|[https://swapi.de...|         male|         grey|   170|https://swapi.dev...|     75|           Palpatine|            pale|                  []|                  []|https://swapi.dev...|                  []|2024-10-05 16:52:...|\n",
      "+----------+--------------------+--------------------+---------+--------------------+-------------+-------------+------+--------------------+-------+--------------------+----------------+--------------------+--------------------+--------------------+--------------------+--------------------+\n",
      "only showing top 20 rows\n",
      "\n"
     ]
    }
   ],
   "source": [
    "sdf = spark.sql(\"SELECT * FROM hive_metastore.bronze.people\")\n",
    "print(f\"No. Rows: {sdf.count()}\")\n",
    "sdf.show()"
   ]
  },
  {
   "cell_type": "markdown",
   "metadata": {},
   "source": [
    "# 4 Append"
   ]
  },
  {
   "cell_type": "code",
   "execution_count": 70,
   "metadata": {},
   "outputs": [],
   "source": [
    "class StarWarsBronze(bronze.BronzeAppend):\n",
    "    def load(self, table):\n",
    "        spark.dataSource.register(SWAPIDataSource)\n",
    "        return spark.read.format(\"SWAPI\").load(table)\n",
    "    \n",
    "bronze_instance = StarWarsBronze(spark, **options)\n",
    "bronze_instance.execute_one(\"people\")"
   ]
  },
  {
   "cell_type": "code",
   "execution_count": 71,
   "metadata": {},
   "outputs": [
    {
     "name": "stdout",
     "output_type": "stream",
     "text": [
      "No. Rows: 164\n",
      "+----------+--------------------+--------------------+---------+--------------------+-------------+-------------+------+--------------------+-------+--------------------+----------------+--------------------+--------------------+--------------------+--------------------+--------------------+\n",
      "|birth_year|             created|              edited|eye_color|               films|       gender|   hair_color|height|           homeworld|   mass|                name|      skin_color|             species|           starships|                 url|            vehicles|         LH_BronzeTS|\n",
      "+----------+--------------------+--------------------+---------+--------------------+-------------+-------------+------+--------------------+-------+--------------------+----------------+--------------------+--------------------+--------------------+--------------------+--------------------+\n",
      "|     19BBY|2014-12-09T13:50:...|2014-12-20T21:17:...|     blue|[https://swapi.de...|         male|        blond|   172|https://swapi.dev...|     77|      Luke Skywalker|            fair|                  []|[https://swapi.de...|https://swapi.dev...|[https://swapi.de...|2024-10-05 16:52:...|\n",
      "|    112BBY|2014-12-10T15:10:...|2014-12-20T21:17:...|   yellow|[https://swapi.de...|          n/a|          n/a|   167|https://swapi.dev...|     75|               C-3PO|            gold|[https://swapi.de...|                  []|https://swapi.dev...|                  []|2024-10-05 16:52:...|\n",
      "|     33BBY|2014-12-10T15:11:...|2014-12-20T21:17:...|      red|[https://swapi.de...|          n/a|          n/a|    96|https://swapi.dev...|     32|               R2-D2|     white, blue|[https://swapi.de...|                  []|https://swapi.dev...|                  []|2024-10-05 16:52:...|\n",
      "|   41.9BBY|2014-12-10T15:18:...|2014-12-20T21:17:...|   yellow|[https://swapi.de...|         male|         none|   202|https://swapi.dev...|    136|         Darth Vader|           white|                  []|[https://swapi.de...|https://swapi.dev...|                  []|2024-10-05 16:52:...|\n",
      "|     19BBY|2014-12-10T15:20:...|2014-12-20T21:17:...|    brown|[https://swapi.de...|       female|        brown|   150|https://swapi.dev...|     49|         Leia Organa|           light|                  []|                  []|https://swapi.dev...|[https://swapi.de...|2024-10-05 16:52:...|\n",
      "|     52BBY|2014-12-10T15:52:...|2014-12-20T21:17:...|     blue|[https://swapi.de...|         male|  brown, grey|   178|https://swapi.dev...|    120|           Owen Lars|           light|                  []|                  []|https://swapi.dev...|                  []|2024-10-05 16:52:...|\n",
      "|     47BBY|2014-12-10T15:53:...|2014-12-20T21:17:...|     blue|[https://swapi.de...|       female|        brown|   165|https://swapi.dev...|     75|  Beru Whitesun lars|           light|                  []|                  []|https://swapi.dev...|                  []|2024-10-05 16:52:...|\n",
      "|   unknown|2014-12-10T15:57:...|2014-12-20T21:17:...|      red|[https://swapi.de...|          n/a|          n/a|    97|https://swapi.dev...|     32|               R5-D4|      white, red|[https://swapi.de...|                  []|https://swapi.dev...|                  []|2024-10-05 16:52:...|\n",
      "|     24BBY|2014-12-10T15:59:...|2014-12-20T21:17:...|    brown|[https://swapi.de...|         male|        black|   183|https://swapi.dev...|     84|   Biggs Darklighter|           light|                  []|[https://swapi.de...|https://swapi.dev...|                  []|2024-10-05 16:52:...|\n",
      "|     57BBY|2014-12-10T16:16:...|2014-12-20T21:17:...|blue-gray|[https://swapi.de...|         male|auburn, white|   182|https://swapi.dev...|     77|      Obi-Wan Kenobi|            fair|                  []|[https://swapi.de...|https://swapi.dev...|[https://swapi.de...|2024-10-05 16:52:...|\n",
      "|   41.9BBY|2014-12-10T16:20:...|2014-12-20T21:17:...|     blue|[https://swapi.de...|         male|        blond|   188|https://swapi.dev...|     84|    Anakin Skywalker|            fair|                  []|[https://swapi.de...|https://swapi.dev...|[https://swapi.de...|2024-10-05 16:52:...|\n",
      "|     64BBY|2014-12-10T16:26:...|2014-12-20T21:17:...|     blue|[https://swapi.de...|         male| auburn, grey|   180|https://swapi.dev...|unknown|      Wilhuff Tarkin|            fair|                  []|                  []|https://swapi.dev...|                  []|2024-10-05 16:52:...|\n",
      "|    200BBY|2014-12-10T16:42:...|2014-12-20T21:17:...|     blue|[https://swapi.de...|         male|        brown|   228|https://swapi.dev...|    112|           Chewbacca|         unknown|[https://swapi.de...|[https://swapi.de...|https://swapi.dev...|[https://swapi.de...|2024-10-05 16:52:...|\n",
      "|     29BBY|2014-12-10T16:49:...|2014-12-20T21:17:...|    brown|[https://swapi.de...|         male|        brown|   180|https://swapi.dev...|     80|            Han Solo|            fair|                  []|[https://swapi.de...|https://swapi.dev...|                  []|2024-10-05 16:52:...|\n",
      "|     44BBY|2014-12-10T17:03:...|2014-12-20T21:17:...|    black|[https://swapi.de...|         male|          n/a|   173|https://swapi.dev...|     74|              Greedo|           green|[https://swapi.de...|                  []|https://swapi.dev...|                  []|2024-10-05 16:52:...|\n",
      "|    600BBY|2014-12-10T17:11:...|2014-12-20T21:17:...|   orange|[https://swapi.de...|hermaphrodite|          n/a|   175|https://swapi.dev...|  1,358|Jabba Desilijic T...|green-tan, brown|[https://swapi.de...|                  []|https://swapi.dev...|                  []|2024-10-05 16:52:...|\n",
      "|     21BBY|2014-12-12T11:08:...|2014-12-20T21:17:...|    hazel|[https://swapi.de...|         male|        brown|   170|https://swapi.dev...|     77|      Wedge Antilles|            fair|                  []|[https://swapi.de...|https://swapi.dev...|[https://swapi.de...|2024-10-05 16:52:...|\n",
      "|   unknown|2014-12-12T11:16:...|2014-12-20T21:17:...|     blue|[https://swapi.de...|         male|        brown|   180|https://swapi.dev...|    110|    Jek Tono Porkins|            fair|                  []|[https://swapi.de...|https://swapi.dev...|                  []|2024-10-05 16:52:...|\n",
      "|    896BBY|2014-12-15T12:26:...|2014-12-20T21:17:...|    brown|[https://swapi.de...|         male|        white|    66|https://swapi.dev...|     17|                Yoda|           green|[https://swapi.de...|                  []|https://swapi.dev...|                  []|2024-10-05 16:52:...|\n",
      "|     82BBY|2014-12-15T12:48:...|2014-12-20T21:17:...|   yellow|[https://swapi.de...|         male|         grey|   170|https://swapi.dev...|     75|           Palpatine|            pale|                  []|                  []|https://swapi.dev...|                  []|2024-10-05 16:52:...|\n",
      "+----------+--------------------+--------------------+---------+--------------------+-------------+-------------+------+--------------------+-------+--------------------+----------------+--------------------+--------------------+--------------------+--------------------+--------------------+\n",
      "only showing top 20 rows\n",
      "\n"
     ]
    }
   ],
   "source": [
    "sdf = spark.sql(\"SELECT * FROM hive_metastore.bronze.people\")\n",
    "print(f\"No. Rows: {sdf.count()}\")\n",
    "sdf.show()"
   ]
  },
  {
   "cell_type": "markdown",
   "metadata": {},
   "source": [
    "# 5 Merge"
   ]
  },
  {
   "cell_type": "code",
   "execution_count": 73,
   "metadata": {},
   "outputs": [],
   "source": [
    "class StarWarsBronze(bronze.BronzeMerge):\n",
    "    def load(self, table):\n",
    "        return spark.read.format(\"SWAPI\").load(table)\n",
    "    \n",
    "    def get_delta_merge_builder(self, sdf: DataFrame, delta_table: DeltaTable) -> DeltaMergeBuilder:\n",
    "        merge_condition = \"target.url = source.url\" \n",
    "        builder = delta_table.alias(\"target\").merge(sdf.alias(\"source\"), merge_condition)\n",
    "        builder = builder.whenMatchedUpdateAll()\n",
    "        builder = builder.whenNotMatchedInsertAll()\n",
    "        return builder\n",
    "    \n",
    "bronze_instance = StarWarsBronze(spark, **options)\n",
    "bronze_instance.execute_one(\"people\")"
   ]
  },
  {
   "cell_type": "code",
   "execution_count": 74,
   "metadata": {},
   "outputs": [
    {
     "name": "stdout",
     "output_type": "stream",
     "text": [
      "No. Rows: 164\n",
      "+----------+--------------------+--------------------+---------+--------------------+------+-------------+------+--------------------+----+------------------+-----------+--------------------+--------------------+--------------------+--------------------+--------------------+\n",
      "|birth_year|             created|              edited|eye_color|               films|gender|   hair_color|height|           homeworld|mass|              name| skin_color|             species|           starships|                 url|            vehicles|         LH_BronzeTS|\n",
      "+----------+--------------------+--------------------+---------+--------------------+------+-------------+------+--------------------+----+------------------+-----------+--------------------+--------------------+--------------------+--------------------+--------------------+\n",
      "|     19BBY|2014-12-09T13:50:...|2014-12-20T21:17:...|     blue|[https://swapi.de...|  male|        blond|   172|https://swapi.dev...|  77|    Luke Skywalker|       fair|                  []|[https://swapi.de...|https://swapi.dev...|[https://swapi.de...|2024-10-05 16:58:...|\n",
      "|     19BBY|2014-12-09T13:50:...|2014-12-20T21:17:...|     blue|[https://swapi.de...|  male|        blond|   172|https://swapi.dev...|  77|    Luke Skywalker|       fair|                  []|[https://swapi.de...|https://swapi.dev...|[https://swapi.de...|2024-10-05 16:58:...|\n",
      "|    112BBY|2014-12-10T15:10:...|2014-12-20T21:17:...|   yellow|[https://swapi.de...|   n/a|          n/a|   167|https://swapi.dev...|  75|             C-3PO|       gold|[https://swapi.de...|                  []|https://swapi.dev...|                  []|2024-10-05 16:58:...|\n",
      "|    112BBY|2014-12-10T15:10:...|2014-12-20T21:17:...|   yellow|[https://swapi.de...|   n/a|          n/a|   167|https://swapi.dev...|  75|             C-3PO|       gold|[https://swapi.de...|                  []|https://swapi.dev...|                  []|2024-10-05 16:58:...|\n",
      "|     33BBY|2014-12-10T15:11:...|2014-12-20T21:17:...|      red|[https://swapi.de...|   n/a|          n/a|    96|https://swapi.dev...|  32|             R2-D2|white, blue|[https://swapi.de...|                  []|https://swapi.dev...|                  []|2024-10-05 16:58:...|\n",
      "|     33BBY|2014-12-10T15:11:...|2014-12-20T21:17:...|      red|[https://swapi.de...|   n/a|          n/a|    96|https://swapi.dev...|  32|             R2-D2|white, blue|[https://swapi.de...|                  []|https://swapi.dev...|                  []|2024-10-05 16:58:...|\n",
      "|   41.9BBY|2014-12-10T15:18:...|2014-12-20T21:17:...|   yellow|[https://swapi.de...|  male|         none|   202|https://swapi.dev...| 136|       Darth Vader|      white|                  []|[https://swapi.de...|https://swapi.dev...|                  []|2024-10-05 16:58:...|\n",
      "|   41.9BBY|2014-12-10T15:18:...|2014-12-20T21:17:...|   yellow|[https://swapi.de...|  male|         none|   202|https://swapi.dev...| 136|       Darth Vader|      white|                  []|[https://swapi.de...|https://swapi.dev...|                  []|2024-10-05 16:58:...|\n",
      "|     19BBY|2014-12-10T15:20:...|2014-12-20T21:17:...|    brown|[https://swapi.de...|female|        brown|   150|https://swapi.dev...|  49|       Leia Organa|      light|                  []|                  []|https://swapi.dev...|[https://swapi.de...|2024-10-05 16:58:...|\n",
      "|     19BBY|2014-12-10T15:20:...|2014-12-20T21:17:...|    brown|[https://swapi.de...|female|        brown|   150|https://swapi.dev...|  49|       Leia Organa|      light|                  []|                  []|https://swapi.dev...|[https://swapi.de...|2024-10-05 16:58:...|\n",
      "|     52BBY|2014-12-10T15:52:...|2014-12-20T21:17:...|     blue|[https://swapi.de...|  male|  brown, grey|   178|https://swapi.dev...| 120|         Owen Lars|      light|                  []|                  []|https://swapi.dev...|                  []|2024-10-05 16:58:...|\n",
      "|     52BBY|2014-12-10T15:52:...|2014-12-20T21:17:...|     blue|[https://swapi.de...|  male|  brown, grey|   178|https://swapi.dev...| 120|         Owen Lars|      light|                  []|                  []|https://swapi.dev...|                  []|2024-10-05 16:58:...|\n",
      "|     47BBY|2014-12-10T15:53:...|2014-12-20T21:17:...|     blue|[https://swapi.de...|female|        brown|   165|https://swapi.dev...|  75|Beru Whitesun lars|      light|                  []|                  []|https://swapi.dev...|                  []|2024-10-05 16:58:...|\n",
      "|     47BBY|2014-12-10T15:53:...|2014-12-20T21:17:...|     blue|[https://swapi.de...|female|        brown|   165|https://swapi.dev...|  75|Beru Whitesun lars|      light|                  []|                  []|https://swapi.dev...|                  []|2024-10-05 16:58:...|\n",
      "|   unknown|2014-12-10T15:57:...|2014-12-20T21:17:...|      red|[https://swapi.de...|   n/a|          n/a|    97|https://swapi.dev...|  32|             R5-D4| white, red|[https://swapi.de...|                  []|https://swapi.dev...|                  []|2024-10-05 16:58:...|\n",
      "|   unknown|2014-12-10T15:57:...|2014-12-20T21:17:...|      red|[https://swapi.de...|   n/a|          n/a|    97|https://swapi.dev...|  32|             R5-D4| white, red|[https://swapi.de...|                  []|https://swapi.dev...|                  []|2024-10-05 16:58:...|\n",
      "|     24BBY|2014-12-10T15:59:...|2014-12-20T21:17:...|    brown|[https://swapi.de...|  male|        black|   183|https://swapi.dev...|  84| Biggs Darklighter|      light|                  []|[https://swapi.de...|https://swapi.dev...|                  []|2024-10-05 16:58:...|\n",
      "|     24BBY|2014-12-10T15:59:...|2014-12-20T21:17:...|    brown|[https://swapi.de...|  male|        black|   183|https://swapi.dev...|  84| Biggs Darklighter|      light|                  []|[https://swapi.de...|https://swapi.dev...|                  []|2024-10-05 16:58:...|\n",
      "|     57BBY|2014-12-10T16:16:...|2014-12-20T21:17:...|blue-gray|[https://swapi.de...|  male|auburn, white|   182|https://swapi.dev...|  77|    Obi-Wan Kenobi|       fair|                  []|[https://swapi.de...|https://swapi.dev...|[https://swapi.de...|2024-10-05 16:58:...|\n",
      "|     57BBY|2014-12-10T16:16:...|2014-12-20T21:17:...|blue-gray|[https://swapi.de...|  male|auburn, white|   182|https://swapi.dev...|  77|    Obi-Wan Kenobi|       fair|                  []|[https://swapi.de...|https://swapi.dev...|[https://swapi.de...|2024-10-05 16:58:...|\n",
      "+----------+--------------------+--------------------+---------+--------------------+------+-------------+------+--------------------+----+------------------+-----------+--------------------+--------------------+--------------------+--------------------+--------------------+\n",
      "only showing top 20 rows\n",
      "\n"
     ]
    }
   ],
   "source": [
    "sdf = spark.sql(\"SELECT * FROM hive_metastore.bronze.people\")\n",
    "print(f\"No. Rows: {sdf.count()}\")\n",
    "sdf.show()"
   ]
  },
  {
   "cell_type": "markdown",
   "metadata": {},
   "source": [
    "# 6 Clean Up"
   ]
  },
  {
   "cell_type": "code",
   "execution_count": 75,
   "metadata": {},
   "outputs": [
    {
     "data": {
      "text/plain": [
       "DataFrame[]"
      ]
     },
     "execution_count": 75,
     "metadata": {},
     "output_type": "execute_result"
    }
   ],
   "source": [
    "spark.sql(f\"DROP SCHEMA IF EXISTS pt_dh_dev.bronze CASCADE\")"
   ]
  }
 ],
 "metadata": {
  "kernelspec": {
   "display_name": "dbconnect_exec",
   "language": "python",
   "name": "python3"
  },
  "language_info": {
   "codemirror_mode": {
    "name": "ipython",
    "version": 3
   },
   "file_extension": ".py",
   "mimetype": "text/x-python",
   "name": "python",
   "nbconvert_exporter": "python",
   "pygments_lexer": "ipython3",
   "version": "3.11.10"
  }
 },
 "nbformat": 4,
 "nbformat_minor": 2
}
